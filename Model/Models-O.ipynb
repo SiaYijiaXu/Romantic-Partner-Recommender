{
 "cells": [
  {
   "cell_type": "code",
   "execution_count": 1,
   "metadata": {},
   "outputs": [],
   "source": [
    "import pandas as pd\n",
    "import numpy as np\n",
    "from sklearn.model_selection import train_test_split\n",
    "from sklearn.linear_model import LogisticRegression\n",
    "from sklearn.ensemble import RandomForestClassifier\n",
    "from sklearn.ensemble import GradientBoostingClassifier\n",
    "from sklearn import metrics\n",
    "from imblearn.over_sampling import SMOTE"
   ]
  },
  {
   "cell_type": "code",
   "execution_count": 2,
   "metadata": {},
   "outputs": [],
   "source": [
    "'''\n",
    "Count occurrences of binary class\n",
    "@return counter = {class: count}\n",
    "'''\n",
    "def binary_counter(arr):\n",
    "\tbc = [0,0]\n",
    "\tfor a in arr:\n",
    "\t\tbc[int(a)] += 1\n",
    "\tcounter = {0 : bc[0], 1: bc[1]}\n",
    "\treturn counter"
   ]
  },
  {
   "cell_type": "code",
   "execution_count": 3,
   "metadata": {},
   "outputs": [],
   "source": [
    "smote = True"
   ]
  },
  {
   "cell_type": "code",
   "execution_count": 4,
   "metadata": {},
   "outputs": [],
   "source": [
    "data = pd.read_csv('./data/o_pair.csv', encoding=\"ISO-8859-1\")\n",
    "#data = data.fillna(0)"
   ]
  },
  {
   "cell_type": "code",
   "execution_count": 5,
   "metadata": {},
   "outputs": [
    {
     "name": "stdout",
     "output_type": "stream",
     "text": [
      "(0, 'iid')\n",
      "(1, 'pid')\n",
      "(2, 'int_corr')\n",
      "(3, 'samerace')\n",
      "(4, 'attr_o_x')\n",
      "(5, 'sinc_o_x')\n",
      "(6, 'intel_o_x')\n",
      "(7, 'fun_o_x')\n",
      "(8, 'amb_o_x')\n",
      "(9, 'age_x')\n",
      "(10, 'field_cd_x')\n",
      "(11, 'race_x')\n",
      "(12, 'imprace_x')\n",
      "(13, 'imprelig_x')\n",
      "(14, 'date_x')\n",
      "(15, 'go_out_x')\n",
      "(16, 'sports_x')\n",
      "(17, 'tvsports_x')\n",
      "(18, 'exercise_x')\n",
      "(19, 'dining_x')\n",
      "(20, 'museums_x')\n",
      "(21, 'art_x')\n",
      "(22, 'hiking_x')\n",
      "(23, 'gaming_x')\n",
      "(24, 'clubbing_x')\n",
      "(25, 'reading_x')\n",
      "(26, 'tv_x')\n",
      "(27, 'theater_x')\n",
      "(28, 'movies_x')\n",
      "(29, 'concerts_x')\n",
      "(30, 'music_x')\n",
      "(31, 'shopping_x')\n",
      "(32, 'yoga_x')\n",
      "(33, 'sinc1_1_x')\n",
      "(34, 'intel1_1_x')\n",
      "(35, 'fun1_1_x')\n",
      "(36, 'amb1_1_x')\n",
      "(37, 'shar1_1_x')\n",
      "(38, 'attr_o_y')\n",
      "(39, 'sinc_o_y')\n",
      "(40, 'intel_o_y')\n",
      "(41, 'fun_o_y')\n",
      "(42, 'amb_o_y')\n",
      "(43, 'age_y')\n",
      "(44, 'field_cd_y')\n",
      "(45, 'race_y')\n",
      "(46, 'imprace_y')\n",
      "(47, 'imprelig_y')\n",
      "(48, 'date_y')\n",
      "(49, 'go_out_y')\n",
      "(50, 'sports_y')\n",
      "(51, 'tvsports_y')\n",
      "(52, 'exercise_y')\n",
      "(53, 'dining_y')\n",
      "(54, 'museums_y')\n",
      "(55, 'art_y')\n",
      "(56, 'hiking_y')\n",
      "(57, 'gaming_y')\n",
      "(58, 'clubbing_y')\n",
      "(59, 'reading_y')\n",
      "(60, 'tv_y')\n",
      "(61, 'theater_y')\n",
      "(62, 'movies_y')\n",
      "(63, 'concerts_y')\n",
      "(64, 'music_y')\n",
      "(65, 'shopping_y')\n",
      "(66, 'yoga_y')\n",
      "(67, 'sinc1_1_y')\n",
      "(68, 'intel1_1_y')\n",
      "(69, 'fun1_1_y')\n",
      "(70, 'amb1_1_y')\n",
      "(71, 'shar1_1_y')\n",
      "(72, 'age_diff')\n",
      "(73, 'match')\n"
     ]
    }
   ],
   "source": [
    "key = data.keys()\n",
    "idx = range(0,len(key))\n",
    "z = zip(idx, key)\n",
    "for i in z:\n",
    "\tprint(i)"
   ]
  },
  {
   "cell_type": "code",
   "execution_count": 6,
   "metadata": {},
   "outputs": [],
   "source": [
    "# =================== Model Data ======================\n",
    "y = data.pop('match')\n",
    "x = data.values.astype('float64')\n",
    "y = y.values.astype('float64')"
   ]
  },
  {
   "cell_type": "code",
   "execution_count": 7,
   "metadata": {},
   "outputs": [
    {
     "name": "stdout",
     "output_type": "stream",
     "text": [
      "[INFO] SMOTE Oversampling\n",
      "Original Dataset:  {0: 5634, 1: 1169}\n",
      "SMOTE Resampled Dataset:  {0: 5634, 1: 5634}\n"
     ]
    }
   ],
   "source": [
    "# ======================== SMOTE Oversampling ========================\n",
    "if smote:\n",
    "\tprint(\"[INFO] SMOTE Oversampling\")\n",
    "\tprint(\"Original Dataset: \", binary_counter(y))\t# count of +ve and -ve labels\n",
    "\tsm = SMOTE(random_state = 209)\n",
    "\tx, y = sm.fit_sample(x, y)\n",
    "\tprint(\"SMOTE Resampled Dataset: \", binary_counter(y)) "
   ]
  },
  {
   "cell_type": "code",
   "execution_count": 8,
   "metadata": {},
   "outputs": [
    {
     "name": "stdout",
     "output_type": "stream",
     "text": [
      "(11268, 73)\n",
      "(11268,)\n"
     ]
    }
   ],
   "source": [
    "print(x.shape)\n",
    "print(y.shape)"
   ]
  },
  {
   "cell_type": "code",
   "execution_count": 9,
   "metadata": {},
   "outputs": [],
   "source": [
    "# train, test split\n",
    "x_train, x_test, y_train, y_test = train_test_split(x, y, test_size=0.1, random_state=299, stratify=y)"
   ]
  },
  {
   "cell_type": "code",
   "execution_count": 10,
   "metadata": {},
   "outputs": [],
   "source": [
    "# ======== Model 1: Logistic Regression (objective) =========="
   ]
  },
  {
   "cell_type": "code",
   "execution_count": 11,
   "metadata": {},
   "outputs": [
    {
     "name": "stderr",
     "output_type": "stream",
     "text": [
      "/Users/alog1024/anaconda3/lib/python3.7/site-packages/sklearn/linear_model/logistic.py:433: FutureWarning: Default solver will be changed to 'lbfgs' in 0.22. Specify a solver to silence this warning.\n",
      "  FutureWarning)\n"
     ]
    },
    {
     "name": "stdout",
     "output_type": "stream",
     "text": [
      "Train Acc: 0.690760280051277\n",
      "Test Acc: 0.6841171251109139\n"
     ]
    }
   ],
   "source": [
    "model = LogisticRegression(C=1, random_state=0)\n",
    "lr = model.fit(x_train, y_train)\n",
    "predict_train_lr = lr.predict(x_train)\n",
    "predict_test_lr = lr.predict(x_test)\n",
    "print('Train Acc:', metrics.accuracy_score(y_train, predict_train_lr))\n",
    "print('Test Acc:', metrics.accuracy_score(y_test, predict_test_lr))"
   ]
  },
  {
   "cell_type": "code",
   "execution_count": 12,
   "metadata": {},
   "outputs": [],
   "source": [
    "# ======== Model 2: Random Forest (objective) =========="
   ]
  },
  {
   "cell_type": "code",
   "execution_count": 13,
   "metadata": {},
   "outputs": [
    {
     "name": "stderr",
     "output_type": "stream",
     "text": [
      "/Users/alog1024/anaconda3/lib/python3.7/site-packages/sklearn/ensemble/forest.py:246: FutureWarning: The default value of n_estimators will change from 10 in version 0.20 to 100 in 0.22.\n",
      "  \"10 in version 0.20 to 100 in 0.22.\", FutureWarning)\n"
     ]
    },
    {
     "name": "stdout",
     "output_type": "stream",
     "text": [
      "Train Acc: 0.9956611773986787\n",
      "Test Acc: 0.906832298136646\n"
     ]
    }
   ],
   "source": [
    "# random forest model\n",
    "model = RandomForestClassifier()\n",
    "rf = model.fit(x_train, y_train)\n",
    "predict_train_rf = rf.predict(x_train)\n",
    "predict_test_rf = rf.predict(x_test)\n",
    "print('Train Acc:', metrics.accuracy_score(y_train, predict_train_rf))\n",
    "print('Test Acc:', metrics.accuracy_score(y_test, predict_test_rf))"
   ]
  },
  {
   "cell_type": "code",
   "execution_count": 14,
   "metadata": {},
   "outputs": [],
   "source": [
    "# ======== Model 3: xgboost (objective) =========="
   ]
  },
  {
   "cell_type": "code",
   "execution_count": 15,
   "metadata": {},
   "outputs": [
    {
     "name": "stdout",
     "output_type": "stream",
     "text": [
      "Train Accuracy: 0.9063208756532887\n",
      "Test Accuracy: 0.906832298136646\n"
     ]
    }
   ],
   "source": [
    "# xgboost model\n",
    "model = GradientBoostingClassifier()\n",
    "xgb = model.fit(x_train, y_train)\n",
    "predict_train_xgb = xgb.predict(x_train)\n",
    "predict_test_xgb = xgb.predict(x_test)\n",
    "print('Train Accuracy:', metrics.accuracy_score(y_train, predict_train_xgb))\n",
    "print('Test Accuracy:', metrics.accuracy_score(y_test, predict_test_xgb))"
   ]
  },
  {
   "cell_type": "code",
   "execution_count": 16,
   "metadata": {},
   "outputs": [],
   "source": [
    "count = binary_counter(y_test)"
   ]
  },
  {
   "cell_type": "code",
   "execution_count": 17,
   "metadata": {},
   "outputs": [
    {
     "name": "stdout",
     "output_type": "stream",
     "text": [
      "{0: 564, 1: 563}\n",
      "0.5004436557231589\n"
     ]
    }
   ],
   "source": [
    "print(count)\n",
    "print(count[0]/(count[0]+count[1]))"
   ]
  },
  {
   "cell_type": "code",
   "execution_count": null,
   "metadata": {},
   "outputs": [],
   "source": []
  }
 ],
 "metadata": {
  "kernelspec": {
   "display_name": "Python 3",
   "language": "python",
   "name": "python3"
  },
  "language_info": {
   "codemirror_mode": {
    "name": "ipython",
    "version": 3
   },
   "file_extension": ".py",
   "mimetype": "text/x-python",
   "name": "python",
   "nbconvert_exporter": "python",
   "pygments_lexer": "ipython3",
   "version": "3.7.0"
  }
 },
 "nbformat": 4,
 "nbformat_minor": 2
}
