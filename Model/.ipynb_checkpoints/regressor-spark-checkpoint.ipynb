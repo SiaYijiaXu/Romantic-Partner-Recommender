{
 "cells": [
  {
   "cell_type": "code",
   "execution_count": 1,
   "metadata": {},
   "outputs": [],
   "source": [
    "# Import packages\n",
    "from pyspark.ml.evaluation import RegressionEvaluator, MulticlassClassificationEvaluator\n",
    "from pyspark.ml.classification import GBTClassifier\n",
    "from pyspark.ml.regression import RandomForestRegressor, GBTRegressor\n",
    "from pyspark.ml import Pipeline\n",
    "from pyspark.sql import SparkSession, Row\n",
    "from pyspark.ml.linalg import Vectors \n",
    "from pyspark.ml.feature import StringIndexer, VectorIndexer"
   ]
  },
  {
   "cell_type": "code",
   "execution_count": 2,
   "metadata": {},
   "outputs": [],
   "source": [
    "# sprak session\n",
    "spark = SparkSession\\\n",
    "    .builder\\\n",
    "    .appName(\"Dating_Regression\")\\\n",
    "    .getOrCreate()"
   ]
  },
  {
   "cell_type": "code",
   "execution_count": 3,
   "metadata": {},
   "outputs": [],
   "source": [
    "# Load data\n",
    "data = spark.read.csv(\n",
    "    \"o_pair.csv\", header=True, mode=\"DROPMALFORMED\", inferSchema=True\n",
    ")"
   ]
  },
  {
   "cell_type": "code",
   "execution_count": 4,
   "metadata": {},
   "outputs": [],
   "source": [
    "# Transform data into (features: vectors, label: float) format\n",
    "import pyspark.sql.functions as psf\n",
    "from pyspark.ml.feature import VectorAssembler\n",
    "df = spark.read.csv(\"o_pair.csv\")\n",
    "droplist = [\"iid\", \"pid\", \"match\"]"
   ]
  },
  {
   "cell_type": "code",
   "execution_count": 5,
   "metadata": {},
   "outputs": [],
   "source": [
    "df0 = df.select([column for column in df.columns if column not in droplist])\n",
    "df1 = df0.select([psf.regexp_replace(c, '[\\]\\[]', '').cast(\"float\").alias(c) for c in df0.columns])\n",
    "va = VectorAssembler(inputCols=df1.columns, outputCol=\"features\")\n",
    "df2 = va.transform(df1.na.drop())"
   ]
  },
  {
   "cell_type": "code",
   "execution_count": 6,
   "metadata": {},
   "outputs": [],
   "source": [
    "data = df2.withColumn('label', df1._c76)"
   ]
  },
  {
   "cell_type": "code",
   "execution_count": 7,
   "metadata": {},
   "outputs": [
    {
     "data": {
      "text/plain": [
       "DataFrame[_c0: float, _c1: float, _c2: float, _c3: float, _c4: float, _c5: float, _c6: float, _c7: float, _c8: float, _c9: float, _c10: float, _c11: float, _c12: float, _c13: float, _c14: float, _c15: float, _c16: float, _c17: float, _c18: float, _c19: float, _c20: float, _c21: float, _c22: float, _c23: float, _c24: float, _c25: float, _c26: float, _c27: float, _c28: float, _c29: float, _c30: float, _c31: float, _c32: float, _c33: float, _c34: float, _c35: float, _c36: float, _c37: float, _c38: float, _c39: float, _c40: float, _c41: float, _c42: float, _c43: float, _c44: float, _c45: float, _c46: float, _c47: float, _c48: float, _c49: float, _c50: float, _c51: float, _c52: float, _c53: float, _c54: float, _c55: float, _c56: float, _c57: float, _c58: float, _c59: float, _c60: float, _c61: float, _c62: float, _c63: float, _c64: float, _c65: float, _c66: float, _c67: float, _c68: float, _c69: float, _c70: float, _c71: float, _c72: float, _c73: float, _c74: float, _c75: float, _c76: float, features: vector, label: float]"
      ]
     },
     "execution_count": 7,
     "metadata": {},
     "output_type": "execute_result"
    }
   ],
   "source": [
    "data"
   ]
  },
  {
   "cell_type": "code",
   "execution_count": 8,
   "metadata": {},
   "outputs": [],
   "source": [
    "# Identify and index categorical features\n",
    "# Specify maxCategories s.t. features with > 4 distinct values are treated as continuous\n",
    "featureIndexer = VectorIndexer(inputCol=\"features\", outputCol=\"indexedFeatures\", maxCategories=4).fit(df2)\n",
    "\n",
    "# Split the data into training and test sets (9:1)\n",
    "(trainingData, testData) = data.randomSplit([0.9, 0.1])"
   ]
  },
  {
   "cell_type": "code",
   "execution_count": 9,
   "metadata": {},
   "outputs": [],
   "source": [
    "# ===== Random Forest Regression Model ======"
   ]
  },
  {
   "cell_type": "code",
   "execution_count": 10,
   "metadata": {},
   "outputs": [],
   "source": [
    "# RandomForest Regressor\n",
    "rf = RandomForestRegressor(featuresCol=\"indexedFeatures\")"
   ]
  },
  {
   "cell_type": "code",
   "execution_count": 11,
   "metadata": {},
   "outputs": [],
   "source": [
    "# Chain indexer and forest in a Pipeline\n",
    "rfpipeline = Pipeline(stages=[featureIndexer, rf])"
   ]
  },
  {
   "cell_type": "code",
   "execution_count": 12,
   "metadata": {},
   "outputs": [],
   "source": [
    "# Train model\n",
    "rfmodel = rfpipeline.fit(trainingData)"
   ]
  },
  {
   "cell_type": "code",
   "execution_count": 13,
   "metadata": {},
   "outputs": [],
   "source": [
    "# Make prediction\n",
    "predictions = rfmodel.transform(testData)"
   ]
  },
  {
   "cell_type": "code",
   "execution_count": 14,
   "metadata": {},
   "outputs": [
    {
     "name": "stdout",
     "output_type": "stream",
     "text": [
      "+--------------------+-----+--------------------+\n",
      "|          prediction|label|            features|\n",
      "+--------------------+-----+--------------------+\n",
      "|0.008485401459854014|  0.0|[2.0,15.0,0.0,1.0...|\n",
      "|                 0.0|  0.0|[4.0,10.0,0.0,1.0...|\n",
      "|              0.9625|  1.0|[4.0,13.0,0.0,1.0...|\n",
      "|  0.0053475935828877|  0.0|[6.0,12.0,0.0,1.0...|\n",
      "| 0.07604150904930145|  0.0|[6.0,14.0,0.0,1.0...|\n",
      "|0.013832995042741714|  0.0|[6.0,17.0,0.0,1.0...|\n",
      "|  0.9553475935828878|  1.0|[7.0,12.0,0.0,1.0...|\n",
      "|  0.0053475935828877|  0.0|[8.0,10.0,0.0,1.0...|\n",
      "|                 0.0|  0.0|[9.0,16.0,0.0,1.0...|\n",
      "|                 1.0|  1.0|[13.0,5.0,1.0,1.0...|\n",
      "+--------------------+-----+--------------------+\n",
      "only showing top 10 rows\n",
      "\n"
     ]
    }
   ],
   "source": [
    "predictions.select(\"prediction\", \"label\", \"features\").show(10)"
   ]
  },
  {
   "cell_type": "code",
   "execution_count": 15,
   "metadata": {},
   "outputs": [
    {
     "name": "stdout",
     "output_type": "stream",
     "text": [
      "Test RMSE = 0.0480786\n",
      "RandomForestRegressionModel (uid=RandomForestRegressor_4c0fa13a703143eb543d) with 20 trees\n"
     ]
    }
   ],
   "source": [
    "# Evaluation: test RMSE\n",
    "evaluator = RegressionEvaluator(\n",
    "    labelCol=\"label\", predictionCol=\"prediction\", metricName=\"rmse\")\n",
    "rmse = evaluator.evaluate(predictions)\n",
    "print(\"Test RMSE = %g\" % rmse)\n",
    "\n",
    "rfModel = rfmodel.stages[1]\n",
    "print(rfModel)"
   ]
  },
  {
   "cell_type": "code",
   "execution_count": 16,
   "metadata": {},
   "outputs": [],
   "source": [
    "# =========== GBT Regression model ==============="
   ]
  },
  {
   "cell_type": "code",
   "execution_count": 17,
   "metadata": {},
   "outputs": [],
   "source": [
    "# GBT model\n",
    "gbt = GBTRegressor(featuresCol=\"indexedFeatures\", maxIter=10)"
   ]
  },
  {
   "cell_type": "code",
   "execution_count": 18,
   "metadata": {},
   "outputs": [],
   "source": [
    "# Chain indexer and GBT in a Pipeline\n",
    "pipeline = Pipeline(stages=[featureIndexer, gbt])"
   ]
  },
  {
   "cell_type": "code",
   "execution_count": 19,
   "metadata": {},
   "outputs": [],
   "source": [
    "# Train model\n",
    "model = pipeline.fit(trainingData)"
   ]
  },
  {
   "cell_type": "code",
   "execution_count": 20,
   "metadata": {},
   "outputs": [],
   "source": [
    "# Make prediction\n",
    "predictions = model.transform(testData)"
   ]
  },
  {
   "cell_type": "code",
   "execution_count": 21,
   "metadata": {},
   "outputs": [
    {
     "name": "stdout",
     "output_type": "stream",
     "text": [
      "+----------+-----+--------------------+\n",
      "|prediction|label|            features|\n",
      "+----------+-----+--------------------+\n",
      "|       0.0|  0.0|[2.0,15.0,0.0,1.0...|\n",
      "|       0.0|  0.0|[4.0,10.0,0.0,1.0...|\n",
      "|       1.0|  1.0|[4.0,13.0,0.0,1.0...|\n",
      "|       0.0|  0.0|[6.0,12.0,0.0,1.0...|\n",
      "|       0.0|  0.0|[6.0,14.0,0.0,1.0...|\n",
      "|       0.0|  0.0|[6.0,17.0,0.0,1.0...|\n",
      "|       1.0|  1.0|[7.0,12.0,0.0,1.0...|\n",
      "|       0.0|  0.0|[8.0,10.0,0.0,1.0...|\n",
      "|       0.0|  0.0|[9.0,16.0,0.0,1.0...|\n",
      "|       1.0|  1.0|[13.0,5.0,1.0,1.0...|\n",
      "+----------+-----+--------------------+\n",
      "only showing top 10 rows\n",
      "\n"
     ]
    }
   ],
   "source": [
    "predictions.select(\"prediction\", \"label\", \"features\").show(10)"
   ]
  },
  {
   "cell_type": "code",
   "execution_count": 22,
   "metadata": {},
   "outputs": [
    {
     "name": "stdout",
     "output_type": "stream",
     "text": [
      "Test RMSE = 0\n"
     ]
    }
   ],
   "source": [
    "# Evaluation: Test RMSE\n",
    "evaluator = RegressionEvaluator(\n",
    "    labelCol=\"label\", predictionCol=\"prediction\", metricName=\"rmse\")\n",
    "rmse = evaluator.evaluate(predictions)\n",
    "print(\"Test RMSE = %g\" % rmse)"
   ]
  },
  {
   "cell_type": "code",
   "execution_count": 23,
   "metadata": {},
   "outputs": [
    {
     "name": "stdout",
     "output_type": "stream",
     "text": [
      "GBTRegressionModel (uid=GBTRegressor_46ce830367c429113ab4) with 10 trees\n"
     ]
    }
   ],
   "source": [
    "gbtModel = model.stages[1]\n",
    "print(gbtModel)"
   ]
  },
  {
   "cell_type": "code",
   "execution_count": 24,
   "metadata": {},
   "outputs": [],
   "source": [
    "# =========== GBT Classifier model ==============="
   ]
  },
  {
   "cell_type": "code",
   "execution_count": 25,
   "metadata": {},
   "outputs": [],
   "source": [
    "labelIndexer = StringIndexer(inputCol=\"label\", outputCol=\"indexedLabel\").fit(data)"
   ]
  },
  {
   "cell_type": "code",
   "execution_count": 26,
   "metadata": {},
   "outputs": [],
   "source": [
    "# GBT Classifier\n",
    "gbt = GBTClassifier(labelCol=\"indexedLabel\", featuresCol=\"indexedFeatures\", maxIter=10)\n",
    "\n",
    "# Chain indexers and GBT in a Pipeline\n",
    "pipeline = Pipeline(stages=[labelIndexer, featureIndexer, gbt])\n",
    "\n",
    "# Train model\n",
    "model = pipeline.fit(trainingData)\n",
    "\n",
    "# Make prediction\n",
    "predictions = model.transform(testData)"
   ]
  },
  {
   "cell_type": "code",
   "execution_count": 27,
   "metadata": {},
   "outputs": [
    {
     "name": "stdout",
     "output_type": "stream",
     "text": [
      "+----------+------------+--------------------+\n",
      "|prediction|indexedLabel|            features|\n",
      "+----------+------------+--------------------+\n",
      "|       0.0|         0.0|[2.0,15.0,0.0,1.0...|\n",
      "|       0.0|         0.0|[4.0,10.0,0.0,1.0...|\n",
      "|       1.0|         1.0|[4.0,13.0,0.0,1.0...|\n",
      "|       0.0|         0.0|[6.0,12.0,0.0,1.0...|\n",
      "|       0.0|         0.0|[6.0,14.0,0.0,1.0...|\n",
      "+----------+------------+--------------------+\n",
      "only showing top 5 rows\n",
      "\n"
     ]
    }
   ],
   "source": [
    "predictions.select(\"prediction\", \"indexedLabel\", \"features\").show(5)"
   ]
  },
  {
   "cell_type": "code",
   "execution_count": 28,
   "metadata": {},
   "outputs": [
    {
     "name": "stdout",
     "output_type": "stream",
     "text": [
      "Accuracy = 1\n",
      "GBTClassificationModel (uid=GBTClassifier_4176a528078d779b55f0) with 10 trees\n"
     ]
    }
   ],
   "source": [
    "# Evaluation: test Acc\n",
    "evaluator = MulticlassClassificationEvaluator(\n",
    "    labelCol=\"indexedLabel\", predictionCol=\"prediction\", metricName=\"accuracy\")\n",
    "accuracy = evaluator.evaluate(predictions)\n",
    "print(\"Accuracy = %g\" % (accuracy))\n",
    "\n",
    "gbtModel = model.stages[2]\n",
    "print(gbtModel)"
   ]
  }
 ],
 "metadata": {
  "kernelspec": {
   "display_name": "Python 3",
   "language": "python",
   "name": "python3"
  },
  "language_info": {
   "codemirror_mode": {
    "name": "ipython",
    "version": 3
   },
   "file_extension": ".py",
   "mimetype": "text/x-python",
   "name": "python",
   "nbconvert_exporter": "python",
   "pygments_lexer": "ipython3",
   "version": "3.7.0"
  }
 },
 "nbformat": 4,
 "nbformat_minor": 2
}
