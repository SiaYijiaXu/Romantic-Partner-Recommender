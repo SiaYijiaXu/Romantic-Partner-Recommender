{
 "cells": [
  {
   "cell_type": "code",
   "execution_count": 1,
   "metadata": {},
   "outputs": [],
   "source": [
    "import pandas as pd\n",
    "import numpy as np\n",
    "from sklearn.model_selection import train_test_split\n",
    "from sklearn.linear_model import LogisticRegression\n",
    "from sklearn.ensemble import RandomForestClassifier\n",
    "from sklearn.ensemble import GradientBoostingClassifier\n",
    "from sklearn import metrics\n",
    "from imblearn.over_sampling import SMOTE"
   ]
  },
  {
   "cell_type": "code",
   "execution_count": 2,
   "metadata": {},
   "outputs": [],
   "source": [
    "'''\n",
    "Count occurrences of binary class\n",
    "@return counter = {class: count}\n",
    "'''\n",
    "def binary_counter(arr):\n",
    "\tbc = [0,0]\n",
    "\tfor a in arr:\n",
    "\t\tbc[int(a)] += 1\n",
    "\tcounter = {0 : bc[0], 1: bc[1]}\n",
    "\treturn counter"
   ]
  },
  {
   "cell_type": "code",
   "execution_count": 3,
   "metadata": {},
   "outputs": [],
   "source": [
    "smote = True"
   ]
  },
  {
   "cell_type": "code",
   "execution_count": 4,
   "metadata": {},
   "outputs": [],
   "source": [
    "data = pd.read_csv('../data/o_pair.csv', encoding=\"ISO-8859-1\")\n",
    "#data = data.fillna(0)"
   ]
  },
  {
   "cell_type": "code",
   "execution_count": 5,
   "metadata": {},
   "outputs": [
    {
     "name": "stdout",
     "output_type": "stream",
     "text": [
      "(0, 'iid')\n",
      "(1, 'pid')\n",
      "(2, 'gender_x')\n",
      "(3, 'wave_x')\n",
      "(4, 'attr_o_x')\n",
      "(5, 'sinc_o_x')\n",
      "(6, 'intel_o_x')\n",
      "(7, 'fun_o_x')\n",
      "(8, 'amb_o_x')\n",
      "(9, 'age_x')\n",
      "(10, 'field_cd_x')\n",
      "(11, 'race_x')\n",
      "(12, 'imprace_x')\n",
      "(13, 'imprelig_x')\n",
      "(14, 'date_x')\n",
      "(15, 'go_out_x')\n",
      "(16, 'sports_x')\n",
      "(17, 'tvsports_x')\n",
      "(18, 'exercise_x')\n",
      "(19, 'dining_x')\n",
      "(20, 'museums_x')\n",
      "(21, 'art_x')\n",
      "(22, 'hiking_x')\n",
      "(23, 'gaming_x')\n",
      "(24, 'clubbing_x')\n",
      "(25, 'reading_x')\n",
      "(26, 'tv_x')\n",
      "(27, 'theater_x')\n",
      "(28, 'movies_x')\n",
      "(29, 'concerts_x')\n",
      "(30, 'music_x')\n",
      "(31, 'shopping_x')\n",
      "(32, 'yoga_x')\n",
      "(33, 'sinc1_1_x')\n",
      "(34, 'intel1_1_x')\n",
      "(35, 'fun1_1_x')\n",
      "(36, 'amb1_1_x')\n",
      "(37, 'shar1_1_x')\n",
      "(38, 'gender_y')\n",
      "(39, 'wave_y')\n",
      "(40, 'attr_o_y')\n",
      "(41, 'sinc_o_y')\n",
      "(42, 'intel_o_y')\n",
      "(43, 'fun_o_y')\n",
      "(44, 'amb_o_y')\n",
      "(45, 'age_y')\n",
      "(46, 'field_cd_y')\n",
      "(47, 'race_y')\n",
      "(48, 'imprace_y')\n",
      "(49, 'imprelig_y')\n",
      "(50, 'date_y')\n",
      "(51, 'go_out_y')\n",
      "(52, 'sports_y')\n",
      "(53, 'tvsports_y')\n",
      "(54, 'exercise_y')\n",
      "(55, 'dining_y')\n",
      "(56, 'museums_y')\n",
      "(57, 'art_y')\n",
      "(58, 'hiking_y')\n",
      "(59, 'gaming_y')\n",
      "(60, 'clubbing_y')\n",
      "(61, 'reading_y')\n",
      "(62, 'tv_y')\n",
      "(63, 'theater_y')\n",
      "(64, 'movies_y')\n",
      "(65, 'concerts_y')\n",
      "(66, 'music_y')\n",
      "(67, 'shopping_y')\n",
      "(68, 'yoga_y')\n",
      "(69, 'sinc1_1_y')\n",
      "(70, 'intel1_1_y')\n",
      "(71, 'fun1_1_y')\n",
      "(72, 'amb1_1_y')\n",
      "(73, 'shar1_1_y')\n",
      "(74, 'age_diff')\n",
      "(75, 'samerace')\n",
      "(76, 'match')\n"
     ]
    }
   ],
   "source": [
    "key = data.keys()\n",
    "idx = range(0,len(key))\n",
    "z = zip(idx, key)\n",
    "for i in z:\n",
    "\tprint(i)"
   ]
  },
  {
   "cell_type": "code",
   "execution_count": 6,
   "metadata": {},
   "outputs": [],
   "source": [
    "# =================== Model Data ======================\n",
    "y = data.pop('match')\n",
    "iid = data.pop('iid')\n",
    "pid = data.pop('pid')\n",
    "wave_x = data.pop('wave_x')\n",
    "wave_y = data.pop('wave_y')"
   ]
  },
  {
   "cell_type": "code",
   "execution_count": 7,
   "metadata": {},
   "outputs": [],
   "source": [
    "ori_edges = pd.concat([iid, pid, wave_x, wave_y, y], axis=1, keys=['src', 'dst', 'wave_x', 'wave_y', 'match'])\n",
    "ori_edges.to_csv('../data/ori_edges.csv',index=False)"
   ]
  },
  {
   "cell_type": "code",
   "execution_count": 8,
   "metadata": {},
   "outputs": [],
   "source": [
    "x = data.values.astype('float64')\n",
    "y = y.values.astype('float64')"
   ]
  },
  {
   "cell_type": "code",
   "execution_count": 9,
   "metadata": {},
   "outputs": [
    {
     "name": "stdout",
     "output_type": "stream",
     "text": [
      "[INFO] SMOTE Oversampling\n",
      "Original Dataset:  {0: 5536, 1: 1150}\n",
      "SMOTE Resampled Dataset:  {0: 5536, 1: 5536}\n"
     ]
    }
   ],
   "source": [
    "# ======================== SMOTE Oversampling ========================\n",
    "if smote:\n",
    "\tprint(\"[INFO] SMOTE Oversampling\")\n",
    "\tprint(\"Original Dataset: \", binary_counter(y))\t# count of +ve and -ve labels\n",
    "\tsm = SMOTE(random_state = 209)\n",
    "\tx, y = sm.fit_sample(x, y)\n",
    "\tprint(\"SMOTE Resampled Dataset: \", binary_counter(y)) "
   ]
  },
  {
   "cell_type": "code",
   "execution_count": 10,
   "metadata": {},
   "outputs": [
    {
     "name": "stdout",
     "output_type": "stream",
     "text": [
      "(11072, 72)\n",
      "(11072,)\n"
     ]
    }
   ],
   "source": [
    "print(x.shape)\n",
    "print(y.shape)"
   ]
  },
  {
   "cell_type": "code",
   "execution_count": 11,
   "metadata": {},
   "outputs": [],
   "source": [
    "# train, test split\n",
    "x_train, x_test, y_train, y_test = train_test_split(x, y, test_size=0.1, random_state=299, stratify=y)"
   ]
  },
  {
   "cell_type": "code",
   "execution_count": 12,
   "metadata": {},
   "outputs": [],
   "source": [
    "# ======== Model 2: Random Forest (objective) =========="
   ]
  },
  {
   "cell_type": "code",
   "execution_count": 13,
   "metadata": {},
   "outputs": [
    {
     "name": "stderr",
     "output_type": "stream",
     "text": [
      "/Users/alog1024/anaconda3/lib/python3.7/site-packages/sklearn/ensemble/forest.py:246: FutureWarning: The default value of n_estimators will change from 10 in version 0.20 to 100 in 0.22.\n",
      "  \"10 in version 0.20 to 100 in 0.22.\", FutureWarning)\n"
     ]
    },
    {
     "name": "stdout",
     "output_type": "stream",
     "text": [
      "Train Acc: 0.9945804897631473\n",
      "Test Acc: 0.9016245487364621\n"
     ]
    }
   ],
   "source": [
    "# random forest model\n",
    "model = RandomForestClassifier()\n",
    "rf = model.fit(x_train, y_train)\n",
    "predict_train_rf = rf.predict(x_train)\n",
    "predict_test_rf = rf.predict(x_test)\n",
    "print('Train Acc:', metrics.accuracy_score(y_train, predict_train_rf))\n",
    "print('Test Acc:', metrics.accuracy_score(y_test, predict_test_rf))"
   ]
  },
  {
   "cell_type": "code",
   "execution_count": 14,
   "metadata": {},
   "outputs": [],
   "source": [
    "# ======== Model 3: xgboost (objective) =========="
   ]
  },
  {
   "cell_type": "code",
   "execution_count": 15,
   "metadata": {},
   "outputs": [
    {
     "name": "stdout",
     "output_type": "stream",
     "text": [
      "Train Accuracy: 0.9055600160578081\n",
      "Test Accuracy: 0.8898916967509025\n"
     ]
    }
   ],
   "source": [
    "# xgboost model\n",
    "model = GradientBoostingClassifier()\n",
    "xgb = model.fit(x_train, y_train)\n",
    "predict_train_xgb = xgb.predict(x_train)\n",
    "predict_test_xgb = xgb.predict(x_test)\n",
    "print('Train Accuracy:', metrics.accuracy_score(y_train, predict_train_xgb))\n",
    "print('Test Accuracy:', metrics.accuracy_score(y_test, predict_test_xgb))"
   ]
  },
  {
   "cell_type": "code",
   "execution_count": 16,
   "metadata": {},
   "outputs": [],
   "source": [
    "count = binary_counter(y_test)"
   ]
  },
  {
   "cell_type": "code",
   "execution_count": 17,
   "metadata": {},
   "outputs": [
    {
     "name": "stdout",
     "output_type": "stream",
     "text": [
      "{0: 554, 1: 554}\n",
      "0.5\n"
     ]
    }
   ],
   "source": [
    "print(count)\n",
    "print(count[0]/(count[0]+count[1]))"
   ]
  },
  {
   "cell_type": "code",
   "execution_count": 18,
   "metadata": {},
   "outputs": [],
   "source": [
    "# ======= Recommendation ========="
   ]
  },
  {
   "cell_type": "code",
   "execution_count": 19,
   "metadata": {},
   "outputs": [],
   "source": [
    "pair = pd.read_csv('../data/allpair.csv', encoding=\"ISO-8859-1\")"
   ]
  },
  {
   "cell_type": "code",
   "execution_count": 20,
   "metadata": {},
   "outputs": [
    {
     "data": {
      "text/html": [
       "<div>\n",
       "<style scoped>\n",
       "    .dataframe tbody tr th:only-of-type {\n",
       "        vertical-align: middle;\n",
       "    }\n",
       "\n",
       "    .dataframe tbody tr th {\n",
       "        vertical-align: top;\n",
       "    }\n",
       "\n",
       "    .dataframe thead th {\n",
       "        text-align: right;\n",
       "    }\n",
       "</style>\n",
       "<table border=\"1\" class=\"dataframe\">\n",
       "  <thead>\n",
       "    <tr style=\"text-align: right;\">\n",
       "      <th></th>\n",
       "      <th>iid</th>\n",
       "      <th>pid</th>\n",
       "      <th>iid_x</th>\n",
       "      <th>gender_x</th>\n",
       "      <th>wave_x</th>\n",
       "      <th>attr_o_x</th>\n",
       "      <th>sinc_o_x</th>\n",
       "      <th>intel_o_x</th>\n",
       "      <th>fun_o_x</th>\n",
       "      <th>amb_o_x</th>\n",
       "      <th>...</th>\n",
       "      <th>concerts_y</th>\n",
       "      <th>music_y</th>\n",
       "      <th>shopping_y</th>\n",
       "      <th>yoga_y</th>\n",
       "      <th>sinc1_1_y</th>\n",
       "      <th>intel1_1_y</th>\n",
       "      <th>fun1_1_y</th>\n",
       "      <th>amb1_1_y</th>\n",
       "      <th>age_diff</th>\n",
       "      <th>samerace</th>\n",
       "    </tr>\n",
       "  </thead>\n",
       "  <tbody>\n",
       "    <tr>\n",
       "      <th>0</th>\n",
       "      <td>0</td>\n",
       "      <td>0</td>\n",
       "      <td>0</td>\n",
       "      <td>0</td>\n",
       "      <td>1</td>\n",
       "      <td>6.7</td>\n",
       "      <td>7.4</td>\n",
       "      <td>8.0</td>\n",
       "      <td>7.2</td>\n",
       "      <td>8.0</td>\n",
       "      <td>...</td>\n",
       "      <td>10.0</td>\n",
       "      <td>9.0</td>\n",
       "      <td>8.0</td>\n",
       "      <td>1.0</td>\n",
       "      <td>20.0</td>\n",
       "      <td>20.0</td>\n",
       "      <td>15.0</td>\n",
       "      <td>15.0</td>\n",
       "      <td>0.0</td>\n",
       "      <td>1</td>\n",
       "    </tr>\n",
       "    <tr>\n",
       "      <th>1</th>\n",
       "      <td>0</td>\n",
       "      <td>1</td>\n",
       "      <td>0</td>\n",
       "      <td>0</td>\n",
       "      <td>1</td>\n",
       "      <td>6.7</td>\n",
       "      <td>7.4</td>\n",
       "      <td>8.0</td>\n",
       "      <td>7.2</td>\n",
       "      <td>8.0</td>\n",
       "      <td>...</td>\n",
       "      <td>7.0</td>\n",
       "      <td>8.0</td>\n",
       "      <td>3.0</td>\n",
       "      <td>1.0</td>\n",
       "      <td>5.0</td>\n",
       "      <td>25.0</td>\n",
       "      <td>20.0</td>\n",
       "      <td>0.0</td>\n",
       "      <td>-3.0</td>\n",
       "      <td>0</td>\n",
       "    </tr>\n",
       "    <tr>\n",
       "      <th>2</th>\n",
       "      <td>0</td>\n",
       "      <td>2</td>\n",
       "      <td>0</td>\n",
       "      <td>0</td>\n",
       "      <td>1</td>\n",
       "      <td>6.7</td>\n",
       "      <td>7.4</td>\n",
       "      <td>8.0</td>\n",
       "      <td>7.2</td>\n",
       "      <td>8.0</td>\n",
       "      <td>...</td>\n",
       "      <td>7.0</td>\n",
       "      <td>5.0</td>\n",
       "      <td>8.0</td>\n",
       "      <td>7.0</td>\n",
       "      <td>10.0</td>\n",
       "      <td>35.0</td>\n",
       "      <td>10.0</td>\n",
       "      <td>10.0</td>\n",
       "      <td>-4.0</td>\n",
       "      <td>0</td>\n",
       "    </tr>\n",
       "    <tr>\n",
       "      <th>3</th>\n",
       "      <td>0</td>\n",
       "      <td>3</td>\n",
       "      <td>0</td>\n",
       "      <td>0</td>\n",
       "      <td>1</td>\n",
       "      <td>6.7</td>\n",
       "      <td>7.4</td>\n",
       "      <td>8.0</td>\n",
       "      <td>7.2</td>\n",
       "      <td>8.0</td>\n",
       "      <td>...</td>\n",
       "      <td>8.0</td>\n",
       "      <td>7.0</td>\n",
       "      <td>1.0</td>\n",
       "      <td>8.0</td>\n",
       "      <td>20.0</td>\n",
       "      <td>20.0</td>\n",
       "      <td>20.0</td>\n",
       "      <td>10.0</td>\n",
       "      <td>-2.0</td>\n",
       "      <td>0</td>\n",
       "    </tr>\n",
       "    <tr>\n",
       "      <th>4</th>\n",
       "      <td>0</td>\n",
       "      <td>4</td>\n",
       "      <td>0</td>\n",
       "      <td>0</td>\n",
       "      <td>1</td>\n",
       "      <td>6.7</td>\n",
       "      <td>7.4</td>\n",
       "      <td>8.0</td>\n",
       "      <td>7.2</td>\n",
       "      <td>8.0</td>\n",
       "      <td>...</td>\n",
       "      <td>3.0</td>\n",
       "      <td>7.0</td>\n",
       "      <td>8.0</td>\n",
       "      <td>3.0</td>\n",
       "      <td>5.0</td>\n",
       "      <td>25.0</td>\n",
       "      <td>25.0</td>\n",
       "      <td>10.0</td>\n",
       "      <td>0.0</td>\n",
       "      <td>0</td>\n",
       "    </tr>\n",
       "  </tbody>\n",
       "</table>\n",
       "<p>5 rows × 76 columns</p>\n",
       "</div>"
      ],
      "text/plain": [
       "   iid  pid  iid_x  gender_x  wave_x  attr_o_x  sinc_o_x  intel_o_x  fun_o_x  \\\n",
       "0    0    0      0         0       1       6.7       7.4        8.0      7.2   \n",
       "1    0    1      0         0       1       6.7       7.4        8.0      7.2   \n",
       "2    0    2      0         0       1       6.7       7.4        8.0      7.2   \n",
       "3    0    3      0         0       1       6.7       7.4        8.0      7.2   \n",
       "4    0    4      0         0       1       6.7       7.4        8.0      7.2   \n",
       "\n",
       "   amb_o_x    ...     concerts_y  music_y  shopping_y  yoga_y  sinc1_1_y  \\\n",
       "0      8.0    ...           10.0      9.0         8.0     1.0       20.0   \n",
       "1      8.0    ...            7.0      8.0         3.0     1.0        5.0   \n",
       "2      8.0    ...            7.0      5.0         8.0     7.0       10.0   \n",
       "3      8.0    ...            8.0      7.0         1.0     8.0       20.0   \n",
       "4      8.0    ...            3.0      7.0         8.0     3.0        5.0   \n",
       "\n",
       "   intel1_1_y  fun1_1_y  amb1_1_y  age_diff  samerace  \n",
       "0        20.0      15.0      15.0       0.0         1  \n",
       "1        25.0      20.0       0.0      -3.0         0  \n",
       "2        35.0      10.0      10.0      -4.0         0  \n",
       "3        20.0      20.0      10.0      -2.0         0  \n",
       "4        25.0      25.0      10.0       0.0         0  \n",
       "\n",
       "[5 rows x 76 columns]"
      ]
     },
     "execution_count": 20,
     "metadata": {},
     "output_type": "execute_result"
    }
   ],
   "source": [
    "pair.head(5)"
   ]
  },
  {
   "cell_type": "code",
   "execution_count": 21,
   "metadata": {},
   "outputs": [
    {
     "name": "stdout",
     "output_type": "stream",
     "text": [
      "(287296, 72)\n"
     ]
    }
   ],
   "source": [
    "# =================== Model Data ======================\n",
    "iid = pair.pop('iid')\n",
    "pid = pair.pop('pid')\n",
    "wave_x = pair.pop('wave_x')\n",
    "wave_y = pair.pop('wave_y')\n",
    "x = pair.values.astype('float64')\n",
    "print(x.shape)"
   ]
  },
  {
   "cell_type": "code",
   "execution_count": 22,
   "metadata": {},
   "outputs": [
    {
     "name": "stdout",
     "output_type": "stream",
     "text": [
      "[0. 0. 0. ... 0. 0. 0.]\n"
     ]
    }
   ],
   "source": [
    "pred = rf.predict(x)\n",
    "print(pred)"
   ]
  },
  {
   "cell_type": "code",
   "execution_count": 23,
   "metadata": {},
   "outputs": [],
   "source": [
    "edges = pd.concat([iid, pid, wave_x, wave_y], axis=1, keys=['src', 'dst', 'wave_x', 'wave_y'])\n",
    "edges['match'] = pred"
   ]
  },
  {
   "cell_type": "code",
   "execution_count": 24,
   "metadata": {},
   "outputs": [
    {
     "data": {
      "text/html": [
       "<div>\n",
       "<style scoped>\n",
       "    .dataframe tbody tr th:only-of-type {\n",
       "        vertical-align: middle;\n",
       "    }\n",
       "\n",
       "    .dataframe tbody tr th {\n",
       "        vertical-align: top;\n",
       "    }\n",
       "\n",
       "    .dataframe thead th {\n",
       "        text-align: right;\n",
       "    }\n",
       "</style>\n",
       "<table border=\"1\" class=\"dataframe\">\n",
       "  <thead>\n",
       "    <tr style=\"text-align: right;\">\n",
       "      <th></th>\n",
       "      <th>src</th>\n",
       "      <th>dst</th>\n",
       "      <th>wave_x</th>\n",
       "      <th>wave_y</th>\n",
       "      <th>match</th>\n",
       "    </tr>\n",
       "  </thead>\n",
       "  <tbody>\n",
       "    <tr>\n",
       "      <th>0</th>\n",
       "      <td>0</td>\n",
       "      <td>0</td>\n",
       "      <td>1</td>\n",
       "      <td>1</td>\n",
       "      <td>0.0</td>\n",
       "    </tr>\n",
       "    <tr>\n",
       "      <th>1</th>\n",
       "      <td>0</td>\n",
       "      <td>1</td>\n",
       "      <td>1</td>\n",
       "      <td>1</td>\n",
       "      <td>0.0</td>\n",
       "    </tr>\n",
       "    <tr>\n",
       "      <th>2</th>\n",
       "      <td>0</td>\n",
       "      <td>2</td>\n",
       "      <td>1</td>\n",
       "      <td>1</td>\n",
       "      <td>0.0</td>\n",
       "    </tr>\n",
       "    <tr>\n",
       "      <th>3</th>\n",
       "      <td>0</td>\n",
       "      <td>3</td>\n",
       "      <td>1</td>\n",
       "      <td>1</td>\n",
       "      <td>0.0</td>\n",
       "    </tr>\n",
       "    <tr>\n",
       "      <th>4</th>\n",
       "      <td>0</td>\n",
       "      <td>4</td>\n",
       "      <td>1</td>\n",
       "      <td>1</td>\n",
       "      <td>0.0</td>\n",
       "    </tr>\n",
       "  </tbody>\n",
       "</table>\n",
       "</div>"
      ],
      "text/plain": [
       "   src  dst  wave_x  wave_y  match\n",
       "0    0    0       1       1    0.0\n",
       "1    0    1       1       1    0.0\n",
       "2    0    2       1       1    0.0\n",
       "3    0    3       1       1    0.0\n",
       "4    0    4       1       1    0.0"
      ]
     },
     "execution_count": 24,
     "metadata": {},
     "output_type": "execute_result"
    }
   ],
   "source": [
    "edges.head(5)"
   ]
  },
  {
   "cell_type": "code",
   "execution_count": 25,
   "metadata": {},
   "outputs": [
    {
     "name": "stdout",
     "output_type": "stream",
     "text": [
      "(287296, 5)\n"
     ]
    }
   ],
   "source": [
    "print(edges.shape)"
   ]
  },
  {
   "cell_type": "code",
   "execution_count": 26,
   "metadata": {},
   "outputs": [],
   "source": [
    "edges.to_csv('../data/edges.csv',index=False)"
   ]
  },
  {
   "cell_type": "code",
   "execution_count": 27,
   "metadata": {},
   "outputs": [],
   "source": [
    "matches = edges[edges['match'] > 0]"
   ]
  },
  {
   "cell_type": "code",
   "execution_count": 28,
   "metadata": {},
   "outputs": [
    {
     "data": {
      "text/html": [
       "<div>\n",
       "<style scoped>\n",
       "    .dataframe tbody tr th:only-of-type {\n",
       "        vertical-align: middle;\n",
       "    }\n",
       "\n",
       "    .dataframe tbody tr th {\n",
       "        vertical-align: top;\n",
       "    }\n",
       "\n",
       "    .dataframe thead th {\n",
       "        text-align: right;\n",
       "    }\n",
       "</style>\n",
       "<table border=\"1\" class=\"dataframe\">\n",
       "  <thead>\n",
       "    <tr style=\"text-align: right;\">\n",
       "      <th></th>\n",
       "      <th>src</th>\n",
       "      <th>dst</th>\n",
       "      <th>wave_x</th>\n",
       "      <th>wave_y</th>\n",
       "      <th>match</th>\n",
       "    </tr>\n",
       "  </thead>\n",
       "  <tbody>\n",
       "    <tr>\n",
       "      <th>15</th>\n",
       "      <td>0</td>\n",
       "      <td>15</td>\n",
       "      <td>1</td>\n",
       "      <td>1</td>\n",
       "      <td>1.0</td>\n",
       "    </tr>\n",
       "    <tr>\n",
       "      <th>16</th>\n",
       "      <td>0</td>\n",
       "      <td>16</td>\n",
       "      <td>1</td>\n",
       "      <td>1</td>\n",
       "      <td>1.0</td>\n",
       "    </tr>\n",
       "    <tr>\n",
       "      <th>17</th>\n",
       "      <td>0</td>\n",
       "      <td>17</td>\n",
       "      <td>1</td>\n",
       "      <td>1</td>\n",
       "      <td>1.0</td>\n",
       "    </tr>\n",
       "    <tr>\n",
       "      <th>41</th>\n",
       "      <td>0</td>\n",
       "      <td>41</td>\n",
       "      <td>1</td>\n",
       "      <td>2</td>\n",
       "      <td>1.0</td>\n",
       "    </tr>\n",
       "    <tr>\n",
       "      <th>45</th>\n",
       "      <td>0</td>\n",
       "      <td>45</td>\n",
       "      <td>1</td>\n",
       "      <td>2</td>\n",
       "      <td>1.0</td>\n",
       "    </tr>\n",
       "  </tbody>\n",
       "</table>\n",
       "</div>"
      ],
      "text/plain": [
       "    src  dst  wave_x  wave_y  match\n",
       "15    0   15       1       1    1.0\n",
       "16    0   16       1       1    1.0\n",
       "17    0   17       1       1    1.0\n",
       "41    0   41       1       2    1.0\n",
       "45    0   45       1       2    1.0"
      ]
     },
     "execution_count": 28,
     "metadata": {},
     "output_type": "execute_result"
    }
   ],
   "source": [
    "matches.head(5)"
   ]
  },
  {
   "cell_type": "code",
   "execution_count": 29,
   "metadata": {},
   "outputs": [
    {
     "name": "stdout",
     "output_type": "stream",
     "text": [
      "(7610, 5)\n"
     ]
    }
   ],
   "source": [
    "print(matches.shape)"
   ]
  },
  {
   "cell_type": "code",
   "execution_count": null,
   "metadata": {},
   "outputs": [],
   "source": []
  }
 ],
 "metadata": {
  "kernelspec": {
   "display_name": "Python 3",
   "language": "python",
   "name": "python3"
  },
  "language_info": {
   "codemirror_mode": {
    "name": "ipython",
    "version": 3
   },
   "file_extension": ".py",
   "mimetype": "text/x-python",
   "name": "python",
   "nbconvert_exporter": "python",
   "pygments_lexer": "ipython3",
   "version": "3.7.0"
  }
 },
 "nbformat": 4,
 "nbformat_minor": 2
}
