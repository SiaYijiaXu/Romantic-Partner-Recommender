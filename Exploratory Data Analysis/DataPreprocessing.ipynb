{
 "cells": [
  {
   "cell_type": "code",
   "execution_count": 1,
   "metadata": {},
   "outputs": [],
   "source": [
    "import pandas as pd\n",
    "\n",
    "data = pd.read_csv('Speed_Dating_Data.csv')\n"
   ]
  },
  {
   "cell_type": "code",
   "execution_count": 2,
   "metadata": {},
   "outputs": [
    {
     "data": {
      "text/html": [
       "<div>\n",
       "<style scoped>\n",
       "    .dataframe tbody tr th:only-of-type {\n",
       "        vertical-align: middle;\n",
       "    }\n",
       "\n",
       "    .dataframe tbody tr th {\n",
       "        vertical-align: top;\n",
       "    }\n",
       "\n",
       "    .dataframe thead th {\n",
       "        text-align: right;\n",
       "    }\n",
       "</style>\n",
       "<table border=\"1\" class=\"dataframe\">\n",
       "  <thead>\n",
       "    <tr style=\"text-align: right;\">\n",
       "      <th></th>\n",
       "      <th>iid</th>\n",
       "      <th>id</th>\n",
       "      <th>gender</th>\n",
       "      <th>idg</th>\n",
       "      <th>condtn</th>\n",
       "      <th>wave</th>\n",
       "      <th>round</th>\n",
       "      <th>position</th>\n",
       "      <th>positin1</th>\n",
       "      <th>order</th>\n",
       "      <th>...</th>\n",
       "      <th>attr3_3</th>\n",
       "      <th>sinc3_3</th>\n",
       "      <th>intel3_3</th>\n",
       "      <th>fun3_3</th>\n",
       "      <th>amb3_3</th>\n",
       "      <th>attr5_3</th>\n",
       "      <th>sinc5_3</th>\n",
       "      <th>intel5_3</th>\n",
       "      <th>fun5_3</th>\n",
       "      <th>amb5_3</th>\n",
       "    </tr>\n",
       "  </thead>\n",
       "  <tbody>\n",
       "  </tbody>\n",
       "</table>\n",
       "<p>0 rows × 195 columns</p>\n",
       "</div>"
      ],
      "text/plain": [
       "Empty DataFrame\n",
       "Columns: [iid, id, gender, idg, condtn, wave, round, position, positin1, order, partner, pid, match, int_corr, samerace, age_o, race_o, pf_o_att, pf_o_sin, pf_o_int, pf_o_fun, pf_o_amb, pf_o_sha, dec_o, attr_o, sinc_o, intel_o, fun_o, amb_o, shar_o, like_o, prob_o, met_o, age, field, field_cd, undergra, mn_sat, tuition, race, imprace, imprelig, from, zipcode, income, goal, date, go_out, career, career_c, sports, tvsports, exercise, dining, museums, art, hiking, gaming, clubbing, reading, tv, theater, movies, concerts, music, shopping, yoga, exphappy, expnum, attr1_1, sinc1_1, intel1_1, fun1_1, amb1_1, shar1_1, attr4_1, sinc4_1, intel4_1, fun4_1, amb4_1, shar4_1, attr2_1, sinc2_1, intel2_1, fun2_1, amb2_1, shar2_1, attr3_1, sinc3_1, fun3_1, intel3_1, amb3_1, attr5_1, sinc5_1, intel5_1, fun5_1, amb5_1, dec, attr, sinc, ...]\n",
       "Index: []\n",
       "\n",
       "[0 rows x 195 columns]"
      ]
     },
     "execution_count": 2,
     "metadata": {},
     "output_type": "execute_result"
    }
   ],
   "source": [
    "data.dropna(how='any')"
   ]
  },
  {
   "cell_type": "code",
   "execution_count": 3,
   "metadata": {},
   "outputs": [],
   "source": [
    "from pandas import Series,DataFrame"
   ]
  },
  {
   "cell_type": "code",
   "execution_count": 4,
   "metadata": {},
   "outputs": [],
   "source": [
    "df_prefer = DataFrame(data, columns = ['gender','attr1_1','sinc1_1','intel1_1','fun1_1','amb1_1','shar1_1'])"
   ]
  },
  {
   "cell_type": "code",
   "execution_count": 5,
   "metadata": {},
   "outputs": [],
   "source": [
    "df_prefer_male = df_prefer[df_prefer['gender'].isin(['1'])]\n",
    "df_prefer_female = df_prefer[df_prefer['gender'].isin(['0'])]\n"
   ]
  },
  {
   "cell_type": "code",
   "execution_count": 6,
   "metadata": {},
   "outputs": [
    {
     "data": {
      "text/html": [
       "<div>\n",
       "<style scoped>\n",
       "    .dataframe tbody tr th:only-of-type {\n",
       "        vertical-align: middle;\n",
       "    }\n",
       "\n",
       "    .dataframe tbody tr th {\n",
       "        vertical-align: top;\n",
       "    }\n",
       "\n",
       "    .dataframe thead th {\n",
       "        text-align: right;\n",
       "    }\n",
       "</style>\n",
       "<table border=\"1\" class=\"dataframe\">\n",
       "  <thead>\n",
       "    <tr style=\"text-align: right;\">\n",
       "      <th></th>\n",
       "      <th>attr1_1</th>\n",
       "      <th>sinc1_1</th>\n",
       "      <th>intel1_1</th>\n",
       "      <th>fun1_1</th>\n",
       "      <th>amb1_1</th>\n",
       "      <th>shar1_1</th>\n",
       "    </tr>\n",
       "    <tr>\n",
       "      <th>gender</th>\n",
       "      <th></th>\n",
       "      <th></th>\n",
       "      <th></th>\n",
       "      <th></th>\n",
       "      <th></th>\n",
       "      <th></th>\n",
       "    </tr>\n",
       "  </thead>\n",
       "  <tbody>\n",
       "    <tr>\n",
       "      <th>0</th>\n",
       "      <td>18.055224</td>\n",
       "      <td>18.305008</td>\n",
       "      <td>21.002502</td>\n",
       "      <td>17.147292</td>\n",
       "      <td>12.827222</td>\n",
       "      <td>12.704194</td>\n",
       "    </tr>\n",
       "    <tr>\n",
       "      <th>1</th>\n",
       "      <td>26.921689</td>\n",
       "      <td>16.498436</td>\n",
       "      <td>19.537374</td>\n",
       "      <td>17.763893</td>\n",
       "      <td>8.552829</td>\n",
       "      <td>10.996574</td>\n",
       "    </tr>\n",
       "  </tbody>\n",
       "</table>\n",
       "</div>"
      ],
      "text/plain": [
       "          attr1_1    sinc1_1   intel1_1     fun1_1     amb1_1    shar1_1\n",
       "gender                                                                  \n",
       "0       18.055224  18.305008  21.002502  17.147292  12.827222  12.704194\n",
       "1       26.921689  16.498436  19.537374  17.763893   8.552829  10.996574"
      ]
     },
     "execution_count": 6,
     "metadata": {},
     "output_type": "execute_result"
    }
   ],
   "source": [
    "df_prefer.groupby('gender').mean()"
   ]
  },
  {
   "cell_type": "code",
   "execution_count": 7,
   "metadata": {},
   "outputs": [
    {
     "data": {
      "text/html": [
       "<div>\n",
       "<style scoped>\n",
       "    .dataframe tbody tr th:only-of-type {\n",
       "        vertical-align: middle;\n",
       "    }\n",
       "\n",
       "    .dataframe tbody tr th {\n",
       "        vertical-align: top;\n",
       "    }\n",
       "\n",
       "    .dataframe thead th {\n",
       "        text-align: right;\n",
       "    }\n",
       "</style>\n",
       "<table border=\"1\" class=\"dataframe\">\n",
       "  <thead>\n",
       "    <tr style=\"text-align: right;\">\n",
       "      <th>gender</th>\n",
       "      <th>0</th>\n",
       "      <th>1</th>\n",
       "    </tr>\n",
       "  </thead>\n",
       "  <tbody>\n",
       "    <tr>\n",
       "      <th>attr1_1</th>\n",
       "      <td>18.055224</td>\n",
       "      <td>26.921689</td>\n",
       "    </tr>\n",
       "    <tr>\n",
       "      <th>sinc1_1</th>\n",
       "      <td>18.305008</td>\n",
       "      <td>16.498436</td>\n",
       "    </tr>\n",
       "    <tr>\n",
       "      <th>intel1_1</th>\n",
       "      <td>21.002502</td>\n",
       "      <td>19.537374</td>\n",
       "    </tr>\n",
       "    <tr>\n",
       "      <th>fun1_1</th>\n",
       "      <td>17.147292</td>\n",
       "      <td>17.763893</td>\n",
       "    </tr>\n",
       "    <tr>\n",
       "      <th>amb1_1</th>\n",
       "      <td>12.827222</td>\n",
       "      <td>8.552829</td>\n",
       "    </tr>\n",
       "    <tr>\n",
       "      <th>shar1_1</th>\n",
       "      <td>12.704194</td>\n",
       "      <td>10.996574</td>\n",
       "    </tr>\n",
       "  </tbody>\n",
       "</table>\n",
       "</div>"
      ],
      "text/plain": [
       "gender            0          1\n",
       "attr1_1   18.055224  26.921689\n",
       "sinc1_1   18.305008  16.498436\n",
       "intel1_1  21.002502  19.537374\n",
       "fun1_1    17.147292  17.763893\n",
       "amb1_1    12.827222   8.552829\n",
       "shar1_1   12.704194  10.996574"
      ]
     },
     "execution_count": 7,
     "metadata": {},
     "output_type": "execute_result"
    }
   ],
   "source": [
    "df_prefer.groupby('gender').mean().T\n"
   ]
  },
  {
   "cell_type": "code",
   "execution_count": 8,
   "metadata": {},
   "outputs": [
    {
     "data": {
      "text/html": [
       "<div>\n",
       "<style scoped>\n",
       "    .dataframe tbody tr th:only-of-type {\n",
       "        vertical-align: middle;\n",
       "    }\n",
       "\n",
       "    .dataframe tbody tr th {\n",
       "        vertical-align: top;\n",
       "    }\n",
       "\n",
       "    .dataframe thead th {\n",
       "        text-align: right;\n",
       "    }\n",
       "</style>\n",
       "<table border=\"1\" class=\"dataframe\">\n",
       "  <thead>\n",
       "    <tr style=\"text-align: right;\">\n",
       "      <th></th>\n",
       "      <th>gender</th>\n",
       "      <th>attr1_1</th>\n",
       "      <th>sinc1_1</th>\n",
       "      <th>intel1_1</th>\n",
       "      <th>fun1_1</th>\n",
       "      <th>amb1_1</th>\n",
       "      <th>shar1_1</th>\n",
       "    </tr>\n",
       "  </thead>\n",
       "  <tbody>\n",
       "    <tr>\n",
       "      <th>count</th>\n",
       "      <td>4194.0</td>\n",
       "      <td>4174.000000</td>\n",
       "      <td>4174.000000</td>\n",
       "      <td>4174.000000</td>\n",
       "      <td>4164.000000</td>\n",
       "      <td>4154.000000</td>\n",
       "      <td>4154.000000</td>\n",
       "    </tr>\n",
       "    <tr>\n",
       "      <th>mean</th>\n",
       "      <td>1.0</td>\n",
       "      <td>26.921689</td>\n",
       "      <td>16.498436</td>\n",
       "      <td>19.537374</td>\n",
       "      <td>17.763893</td>\n",
       "      <td>8.552829</td>\n",
       "      <td>10.996574</td>\n",
       "    </tr>\n",
       "    <tr>\n",
       "      <th>std</th>\n",
       "      <td>0.0</td>\n",
       "      <td>13.669663</td>\n",
       "      <td>7.212455</td>\n",
       "      <td>6.709546</td>\n",
       "      <td>6.573848</td>\n",
       "      <td>5.985803</td>\n",
       "      <td>6.770200</td>\n",
       "    </tr>\n",
       "    <tr>\n",
       "      <th>min</th>\n",
       "      <td>1.0</td>\n",
       "      <td>6.670000</td>\n",
       "      <td>0.000000</td>\n",
       "      <td>0.000000</td>\n",
       "      <td>0.000000</td>\n",
       "      <td>0.000000</td>\n",
       "      <td>0.000000</td>\n",
       "    </tr>\n",
       "    <tr>\n",
       "      <th>25%</th>\n",
       "      <td>1.0</td>\n",
       "      <td>20.000000</td>\n",
       "      <td>10.000000</td>\n",
       "      <td>16.670000</td>\n",
       "      <td>15.000000</td>\n",
       "      <td>5.000000</td>\n",
       "      <td>5.000000</td>\n",
       "    </tr>\n",
       "    <tr>\n",
       "      <th>50%</th>\n",
       "      <td>1.0</td>\n",
       "      <td>23.905000</td>\n",
       "      <td>17.390000</td>\n",
       "      <td>20.000000</td>\n",
       "      <td>18.750000</td>\n",
       "      <td>10.000000</td>\n",
       "      <td>10.000000</td>\n",
       "    </tr>\n",
       "    <tr>\n",
       "      <th>75%</th>\n",
       "      <td>1.0</td>\n",
       "      <td>30.000000</td>\n",
       "      <td>20.000000</td>\n",
       "      <td>23.080000</td>\n",
       "      <td>20.000000</td>\n",
       "      <td>12.000000</td>\n",
       "      <td>15.340000</td>\n",
       "    </tr>\n",
       "    <tr>\n",
       "      <th>max</th>\n",
       "      <td>1.0</td>\n",
       "      <td>100.000000</td>\n",
       "      <td>40.000000</td>\n",
       "      <td>42.860000</td>\n",
       "      <td>50.000000</td>\n",
       "      <td>53.000000</td>\n",
       "      <td>30.000000</td>\n",
       "    </tr>\n",
       "  </tbody>\n",
       "</table>\n",
       "</div>"
      ],
      "text/plain": [
       "       gender      attr1_1      sinc1_1     intel1_1       fun1_1  \\\n",
       "count  4194.0  4174.000000  4174.000000  4174.000000  4164.000000   \n",
       "mean      1.0    26.921689    16.498436    19.537374    17.763893   \n",
       "std       0.0    13.669663     7.212455     6.709546     6.573848   \n",
       "min       1.0     6.670000     0.000000     0.000000     0.000000   \n",
       "25%       1.0    20.000000    10.000000    16.670000    15.000000   \n",
       "50%       1.0    23.905000    17.390000    20.000000    18.750000   \n",
       "75%       1.0    30.000000    20.000000    23.080000    20.000000   \n",
       "max       1.0   100.000000    40.000000    42.860000    50.000000   \n",
       "\n",
       "            amb1_1      shar1_1  \n",
       "count  4154.000000  4154.000000  \n",
       "mean      8.552829    10.996574  \n",
       "std       5.985803     6.770200  \n",
       "min       0.000000     0.000000  \n",
       "25%       5.000000     5.000000  \n",
       "50%      10.000000    10.000000  \n",
       "75%      12.000000    15.340000  \n",
       "max      53.000000    30.000000  "
      ]
     },
     "execution_count": 8,
     "metadata": {},
     "output_type": "execute_result"
    }
   ],
   "source": [
    "df_prefer_male.describe()\n"
   ]
  },
  {
   "cell_type": "code",
   "execution_count": 9,
   "metadata": {},
   "outputs": [
    {
     "data": {
      "text/html": [
       "<div>\n",
       "<style scoped>\n",
       "    .dataframe tbody tr th:only-of-type {\n",
       "        vertical-align: middle;\n",
       "    }\n",
       "\n",
       "    .dataframe tbody tr th {\n",
       "        vertical-align: top;\n",
       "    }\n",
       "\n",
       "    .dataframe thead th {\n",
       "        text-align: right;\n",
       "    }\n",
       "</style>\n",
       "<table border=\"1\" class=\"dataframe\">\n",
       "  <thead>\n",
       "    <tr style=\"text-align: right;\">\n",
       "      <th></th>\n",
       "      <th>gender</th>\n",
       "      <th>attr1_1</th>\n",
       "      <th>sinc1_1</th>\n",
       "      <th>intel1_1</th>\n",
       "      <th>fun1_1</th>\n",
       "      <th>amb1_1</th>\n",
       "      <th>shar1_1</th>\n",
       "    </tr>\n",
       "  </thead>\n",
       "  <tbody>\n",
       "    <tr>\n",
       "      <th>count</th>\n",
       "      <td>4184.0</td>\n",
       "      <td>4125.000000</td>\n",
       "      <td>4125.000000</td>\n",
       "      <td>4125.000000</td>\n",
       "      <td>4125.000000</td>\n",
       "      <td>4125.000000</td>\n",
       "      <td>4103.000000</td>\n",
       "    </tr>\n",
       "    <tr>\n",
       "      <th>mean</th>\n",
       "      <td>0.0</td>\n",
       "      <td>18.055224</td>\n",
       "      <td>18.305008</td>\n",
       "      <td>21.002502</td>\n",
       "      <td>17.147292</td>\n",
       "      <td>12.827222</td>\n",
       "      <td>12.704194</td>\n",
       "    </tr>\n",
       "    <tr>\n",
       "      <th>std</th>\n",
       "      <td>0.0</td>\n",
       "      <td>9.496919</td>\n",
       "      <td>6.755334</td>\n",
       "      <td>6.778147</td>\n",
       "      <td>5.532110</td>\n",
       "      <td>5.481803</td>\n",
       "      <td>5.796059</td>\n",
       "    </tr>\n",
       "    <tr>\n",
       "      <th>min</th>\n",
       "      <td>0.0</td>\n",
       "      <td>0.000000</td>\n",
       "      <td>0.000000</td>\n",
       "      <td>2.000000</td>\n",
       "      <td>0.000000</td>\n",
       "      <td>0.000000</td>\n",
       "      <td>0.000000</td>\n",
       "    </tr>\n",
       "    <tr>\n",
       "      <th>25%</th>\n",
       "      <td>0.0</td>\n",
       "      <td>13.040000</td>\n",
       "      <td>15.000000</td>\n",
       "      <td>18.000000</td>\n",
       "      <td>15.000000</td>\n",
       "      <td>10.000000</td>\n",
       "      <td>10.000000</td>\n",
       "    </tr>\n",
       "    <tr>\n",
       "      <th>50%</th>\n",
       "      <td>0.0</td>\n",
       "      <td>15.380000</td>\n",
       "      <td>20.000000</td>\n",
       "      <td>20.000000</td>\n",
       "      <td>17.780000</td>\n",
       "      <td>15.000000</td>\n",
       "      <td>13.210000</td>\n",
       "    </tr>\n",
       "    <tr>\n",
       "      <th>75%</th>\n",
       "      <td>0.0</td>\n",
       "      <td>20.000000</td>\n",
       "      <td>20.000000</td>\n",
       "      <td>25.000000</td>\n",
       "      <td>20.000000</td>\n",
       "      <td>16.670000</td>\n",
       "      <td>16.000000</td>\n",
       "    </tr>\n",
       "    <tr>\n",
       "      <th>max</th>\n",
       "      <td>0.0</td>\n",
       "      <td>90.000000</td>\n",
       "      <td>60.000000</td>\n",
       "      <td>50.000000</td>\n",
       "      <td>40.000000</td>\n",
       "      <td>30.000000</td>\n",
       "      <td>30.000000</td>\n",
       "    </tr>\n",
       "  </tbody>\n",
       "</table>\n",
       "</div>"
      ],
      "text/plain": [
       "       gender      attr1_1      sinc1_1     intel1_1       fun1_1  \\\n",
       "count  4184.0  4125.000000  4125.000000  4125.000000  4125.000000   \n",
       "mean      0.0    18.055224    18.305008    21.002502    17.147292   \n",
       "std       0.0     9.496919     6.755334     6.778147     5.532110   \n",
       "min       0.0     0.000000     0.000000     2.000000     0.000000   \n",
       "25%       0.0    13.040000    15.000000    18.000000    15.000000   \n",
       "50%       0.0    15.380000    20.000000    20.000000    17.780000   \n",
       "75%       0.0    20.000000    20.000000    25.000000    20.000000   \n",
       "max       0.0    90.000000    60.000000    50.000000    40.000000   \n",
       "\n",
       "            amb1_1      shar1_1  \n",
       "count  4125.000000  4103.000000  \n",
       "mean     12.827222    12.704194  \n",
       "std       5.481803     5.796059  \n",
       "min       0.000000     0.000000  \n",
       "25%      10.000000    10.000000  \n",
       "50%      15.000000    13.210000  \n",
       "75%      16.670000    16.000000  \n",
       "max      30.000000    30.000000  "
      ]
     },
     "execution_count": 9,
     "metadata": {},
     "output_type": "execute_result"
    }
   ],
   "source": [
    "df_prefer_female.describe()"
   ]
  },
  {
   "cell_type": "code",
   "execution_count": 10,
   "metadata": {},
   "outputs": [
    {
     "data": {
      "text/html": [
       "<div>\n",
       "<style scoped>\n",
       "    .dataframe tbody tr th:only-of-type {\n",
       "        vertical-align: middle;\n",
       "    }\n",
       "\n",
       "    .dataframe tbody tr th {\n",
       "        vertical-align: top;\n",
       "    }\n",
       "\n",
       "    .dataframe thead th {\n",
       "        text-align: right;\n",
       "    }\n",
       "</style>\n",
       "<table border=\"1\" class=\"dataframe\">\n",
       "  <thead>\n",
       "    <tr style=\"text-align: right;\">\n",
       "      <th></th>\n",
       "      <th>group</th>\n",
       "      <th>var1</th>\n",
       "      <th>var2</th>\n",
       "      <th>var3</th>\n",
       "      <th>var4</th>\n",
       "      <th>var5</th>\n",
       "    </tr>\n",
       "  </thead>\n",
       "  <tbody>\n",
       "    <tr>\n",
       "      <th>0</th>\n",
       "      <td>A</td>\n",
       "      <td>38.0</td>\n",
       "      <td>29</td>\n",
       "      <td>8</td>\n",
       "      <td>7</td>\n",
       "      <td>28</td>\n",
       "    </tr>\n",
       "    <tr>\n",
       "      <th>1</th>\n",
       "      <td>B</td>\n",
       "      <td>1.5</td>\n",
       "      <td>10</td>\n",
       "      <td>39</td>\n",
       "      <td>31</td>\n",
       "      <td>15</td>\n",
       "    </tr>\n",
       "    <tr>\n",
       "      <th>2</th>\n",
       "      <td>C</td>\n",
       "      <td>30.0</td>\n",
       "      <td>9</td>\n",
       "      <td>23</td>\n",
       "      <td>33</td>\n",
       "      <td>32</td>\n",
       "    </tr>\n",
       "    <tr>\n",
       "      <th>3</th>\n",
       "      <td>D</td>\n",
       "      <td>4.0</td>\n",
       "      <td>34</td>\n",
       "      <td>24</td>\n",
       "      <td>14</td>\n",
       "      <td>14</td>\n",
       "    </tr>\n",
       "  </tbody>\n",
       "</table>\n",
       "</div>"
      ],
      "text/plain": [
       "  group  var1  var2  var3  var4  var5\n",
       "0     A  38.0    29     8     7    28\n",
       "1     B   1.5    10    39    31    15\n",
       "2     C  30.0     9    23    33    32\n",
       "3     D   4.0    34    24    14    14"
      ]
     },
     "execution_count": 10,
     "metadata": {},
     "output_type": "execute_result"
    }
   ],
   "source": [
    "pd.DataFrame({\n",
    "    'group': ['A', 'B', 'C', 'D'],\n",
    "    'var1': [38, 1.5, 30, 4],\n",
    "    'var2': [29, 10, 9, 34],\n",
    "    'var3': [8, 39, 23, 24],\n",
    "    'var4': [7, 31, 33, 14],\n",
    "    'var5': [28, 15, 32, 14]\n",
    "})\n"
   ]
  },
  {
   "cell_type": "code",
   "execution_count": 11,
   "metadata": {},
   "outputs": [],
   "source": [
    "self_state = DataFrame(data, columns = ['gender','attr3_1','sinc3_1','intel3_1','fun3_1','amb3_1'])\n",
    "rated_byothers = DataFrame(data, columns = ['gender','attr_o','sinc_o','intel_o','fun_o','amb_o'])"
   ]
  },
  {
   "cell_type": "code",
   "execution_count": 12,
   "metadata": {},
   "outputs": [
    {
     "data": {
      "text/html": [
       "<div>\n",
       "<style scoped>\n",
       "    .dataframe tbody tr th:only-of-type {\n",
       "        vertical-align: middle;\n",
       "    }\n",
       "\n",
       "    .dataframe tbody tr th {\n",
       "        vertical-align: top;\n",
       "    }\n",
       "\n",
       "    .dataframe thead th {\n",
       "        text-align: right;\n",
       "    }\n",
       "</style>\n",
       "<table border=\"1\" class=\"dataframe\">\n",
       "  <thead>\n",
       "    <tr style=\"text-align: right;\">\n",
       "      <th>gender</th>\n",
       "      <th>0</th>\n",
       "      <th>1</th>\n",
       "    </tr>\n",
       "  </thead>\n",
       "  <tbody>\n",
       "    <tr>\n",
       "      <th>attr3_1</th>\n",
       "      <td>7.219092</td>\n",
       "      <td>6.951636</td>\n",
       "    </tr>\n",
       "    <tr>\n",
       "      <th>sinc3_1</th>\n",
       "      <td>8.458343</td>\n",
       "      <td>8.133061</td>\n",
       "    </tr>\n",
       "    <tr>\n",
       "      <th>intel3_1</th>\n",
       "      <td>8.320622</td>\n",
       "      <td>8.486526</td>\n",
       "    </tr>\n",
       "    <tr>\n",
       "      <th>fun3_1</th>\n",
       "      <td>7.893612</td>\n",
       "      <td>7.517084</td>\n",
       "    </tr>\n",
       "    <tr>\n",
       "      <th>amb3_1</th>\n",
       "      <td>7.632499</td>\n",
       "      <td>7.524783</td>\n",
       "    </tr>\n",
       "  </tbody>\n",
       "</table>\n",
       "</div>"
      ],
      "text/plain": [
       "gender           0         1\n",
       "attr3_1   7.219092  6.951636\n",
       "sinc3_1   8.458343  8.133061\n",
       "intel3_1  8.320622  8.486526\n",
       "fun3_1    7.893612  7.517084\n",
       "amb3_1    7.632499  7.524783"
      ]
     },
     "execution_count": 12,
     "metadata": {},
     "output_type": "execute_result"
    }
   ],
   "source": [
    "self_state.groupby('gender').mean().T\n",
    "\n"
   ]
  },
  {
   "cell_type": "code",
   "execution_count": 13,
   "metadata": {},
   "outputs": [
    {
     "data": {
      "text/html": [
       "<div>\n",
       "<style scoped>\n",
       "    .dataframe tbody tr th:only-of-type {\n",
       "        vertical-align: middle;\n",
       "    }\n",
       "\n",
       "    .dataframe tbody tr th {\n",
       "        vertical-align: top;\n",
       "    }\n",
       "\n",
       "    .dataframe thead th {\n",
       "        text-align: right;\n",
       "    }\n",
       "</style>\n",
       "<table border=\"1\" class=\"dataframe\">\n",
       "  <thead>\n",
       "    <tr style=\"text-align: right;\">\n",
       "      <th>gender</th>\n",
       "      <th>0</th>\n",
       "      <th>1</th>\n",
       "    </tr>\n",
       "  </thead>\n",
       "  <tbody>\n",
       "    <tr>\n",
       "      <th>attr_o</th>\n",
       "      <td>6.461401</td>\n",
       "      <td>5.919422</td>\n",
       "    </tr>\n",
       "    <tr>\n",
       "      <th>sinc_o</th>\n",
       "      <td>7.251053</td>\n",
       "      <td>7.099778</td>\n",
       "    </tr>\n",
       "    <tr>\n",
       "      <th>intel_o</th>\n",
       "      <td>7.291202</td>\n",
       "      <td>7.447362</td>\n",
       "    </tr>\n",
       "    <tr>\n",
       "      <th>fun_o</th>\n",
       "      <td>6.520164</td>\n",
       "      <td>6.280555</td>\n",
       "    </tr>\n",
       "    <tr>\n",
       "      <th>amb_o</th>\n",
       "      <td>6.604591</td>\n",
       "      <td>6.952773</td>\n",
       "    </tr>\n",
       "  </tbody>\n",
       "</table>\n",
       "</div>"
      ],
      "text/plain": [
       "gender          0         1\n",
       "attr_o   6.461401  5.919422\n",
       "sinc_o   7.251053  7.099778\n",
       "intel_o  7.291202  7.447362\n",
       "fun_o    6.520164  6.280555\n",
       "amb_o    6.604591  6.952773"
      ]
     },
     "execution_count": 13,
     "metadata": {},
     "output_type": "execute_result"
    }
   ],
   "source": [
    "rated_byothers.groupby('gender').mean().T"
   ]
  },
  {
   "cell_type": "markdown",
   "metadata": {},
   "source": [
    "# MatchResult"
   ]
  },
  {
   "cell_type": "code",
   "execution_count": 50,
   "metadata": {},
   "outputs": [],
   "source": [
    "df = DataFrame(data, columns = ['iid','gender','match','dec_o','attr_o','sinc_o','intel_o','fun_o','amb_o','shar_o','attr3_1','sinc3_1','intel3_1','fun3_1','amb3_1'])"
   ]
  },
  {
   "cell_type": "code",
   "execution_count": 51,
   "metadata": {},
   "outputs": [],
   "source": [
    "df_male = df[df['gender'].isin(['1'])]\n",
    "df_female = df[df['gender'].isin(['0'])]"
   ]
  },
  {
   "cell_type": "code",
   "execution_count": 52,
   "metadata": {},
   "outputs": [],
   "source": [
    "mean_male = df_male.groupby('iid').mean()\n",
    "mean_female = df_female.groupby('iid').mean()"
   ]
  },
  {
   "cell_type": "code",
   "execution_count": 62,
   "metadata": {},
   "outputs": [],
   "source": [
    "relat_male = DataFrame(mean_male, columns = ['match','dec_o','attr_o','sinc_o','intel_o','fun_o','amb_o','shar_o','attr3_1','sinc3_1','intel3_1','fun3_1','amb3_1'])\n",
    "relat_female = DataFrame(mean_female, columns = ['match','dec_o','attr_o','sinc_o','intel_o','fun_o','amb_o','shar_o','attr3_1','sinc3_1','intel3_1','fun3_1','amb3_1'])\n",
    "\n"
   ]
  },
  {
   "cell_type": "code",
   "execution_count": 22,
   "metadata": {},
   "outputs": [],
   "source": [
    "# df_male_match = df_male[df_male['match'].isin(['1'])]\n",
    "# df_female_match = df_female[df_female['match'].isin(['1'])]\n",
    "# df_male_match.mean()\n",
    "# df_female_match.mean()"
   ]
  },
  {
   "cell_type": "code",
   "execution_count": null,
   "metadata": {},
   "outputs": [],
   "source": []
  },
  {
   "cell_type": "code",
   "execution_count": 79,
   "metadata": {},
   "outputs": [],
   "source": [
    "x1 = relat_female['dec_o']"
   ]
  },
  {
   "cell_type": "code",
   "execution_count": 80,
   "metadata": {},
   "outputs": [
    {
     "data": {
      "text/plain": [
       "iid\n",
       "1    6.7\n",
       "2    7.7\n",
       "3    6.5\n",
       "4    7.0\n",
       "5    5.3\n",
       "Name: attr_o, dtype: float64"
      ]
     },
     "execution_count": 80,
     "metadata": {},
     "output_type": "execute_result"
    }
   ],
   "source": [
    "attr1 = relat_female['attr_o']\n",
    "attr1.head(5)"
   ]
  },
  {
   "cell_type": "code",
   "execution_count": 81,
   "metadata": {},
   "outputs": [],
   "source": [
    "x1_attr1 = DataFrame(relat_female, columns = ['dec_o', 'attr_o'])\n"
   ]
  },
  {
   "cell_type": "code",
   "execution_count": 82,
   "metadata": {},
   "outputs": [
    {
     "data": {
      "text/html": [
       "<div>\n",
       "<style scoped>\n",
       "    .dataframe tbody tr th:only-of-type {\n",
       "        vertical-align: middle;\n",
       "    }\n",
       "\n",
       "    .dataframe tbody tr th {\n",
       "        vertical-align: top;\n",
       "    }\n",
       "\n",
       "    .dataframe thead th {\n",
       "        text-align: right;\n",
       "    }\n",
       "</style>\n",
       "<table border=\"1\" class=\"dataframe\">\n",
       "  <thead>\n",
       "    <tr style=\"text-align: right;\">\n",
       "      <th></th>\n",
       "      <th>dec_o</th>\n",
       "      <th>attr_o</th>\n",
       "    </tr>\n",
       "  </thead>\n",
       "  <tbody>\n",
       "    <tr>\n",
       "      <th>dec_o</th>\n",
       "      <td>1.000000</td>\n",
       "      <td>0.795535</td>\n",
       "    </tr>\n",
       "    <tr>\n",
       "      <th>attr_o</th>\n",
       "      <td>0.795535</td>\n",
       "      <td>1.000000</td>\n",
       "    </tr>\n",
       "  </tbody>\n",
       "</table>\n",
       "</div>"
      ],
      "text/plain": [
       "           dec_o    attr_o\n",
       "dec_o   1.000000  0.795535\n",
       "attr_o  0.795535  1.000000"
      ]
     },
     "execution_count": 82,
     "metadata": {},
     "output_type": "execute_result"
    }
   ],
   "source": [
    "x1_attr1.corr()"
   ]
  },
  {
   "cell_type": "code",
   "execution_count": 83,
   "metadata": {},
   "outputs": [],
   "source": [
    "import matplotlib.pyplot as plt"
   ]
  },
  {
   "cell_type": "code",
   "execution_count": 84,
   "metadata": {},
   "outputs": [
    {
     "data": {
      "image/png": "[encoded data removed]",
      "text/plain": [
       "<Figure size 432x288 with 1 Axes>"
      ]
     },
     "metadata": {
      "needs_background": "light"
     },
     "output_type": "display_data"
    }
   ],
   "source": [
    "plt.scatter(x1, attr1)\n",
    "plt.show()"
   ]
  },
  {
   "cell_type": "code",
   "execution_count": 85,
   "metadata": {},
   "outputs": [
    {
     "data": {
      "text/html": [
       "<div>\n",
       "<style scoped>\n",
       "    .dataframe tbody tr th:only-of-type {\n",
       "        vertical-align: middle;\n",
       "    }\n",
       "\n",
       "    .dataframe tbody tr th {\n",
       "        vertical-align: top;\n",
       "    }\n",
       "\n",
       "    .dataframe thead th {\n",
       "        text-align: right;\n",
       "    }\n",
       "</style>\n",
       "<table border=\"1\" class=\"dataframe\">\n",
       "  <thead>\n",
       "    <tr style=\"text-align: right;\">\n",
       "      <th></th>\n",
       "      <th>dec_o</th>\n",
       "      <th>attr_o</th>\n",
       "    </tr>\n",
       "  </thead>\n",
       "  <tbody>\n",
       "    <tr>\n",
       "      <th>dec_o</th>\n",
       "      <td>1.000000</td>\n",
       "      <td>0.773069</td>\n",
       "    </tr>\n",
       "    <tr>\n",
       "      <th>attr_o</th>\n",
       "      <td>0.773069</td>\n",
       "      <td>1.000000</td>\n",
       "    </tr>\n",
       "  </tbody>\n",
       "</table>\n",
       "</div>"
      ],
      "text/plain": [
       "           dec_o    attr_o\n",
       "dec_o   1.000000  0.773069\n",
       "attr_o  0.773069  1.000000"
      ]
     },
     "execution_count": 85,
     "metadata": {},
     "output_type": "execute_result"
    }
   ],
   "source": [
    "x2 = relat_male['dec_o']\n",
    "attr2 = relat_male['attr_o']\n",
    "x2_attr2 = DataFrame(relat_male, columns = ['dec_o', 'attr_o'])\n",
    "x2_attr2.corr()"
   ]
  },
  {
   "cell_type": "code",
   "execution_count": 86,
   "metadata": {},
   "outputs": [
    {
     "data": {
      "image/png": "[encoded data removed]",
      "text/plain": [
       "<Figure size 432x288 with 1 Axes>"
      ]
     },
     "metadata": {
      "needs_background": "light"
     },
     "output_type": "display_data"
    }
   ],
   "source": [
    "plt.scatter(x2, attr2)\n",
    "plt.show()"
   ]
  },
  {
   "cell_type": "code",
   "execution_count": 87,
   "metadata": {},
   "outputs": [],
   "source": [
    "sinc1 = relat_female['sinc_o']\n",
    "intel1 = relat_female['intel_o']\n",
    "fun1 = relat_female['fun_o']\n",
    "amb1 = relat_female['amb_o']\n",
    "shar1 = relat_female['shar_o']\n",
    "\n",
    "sinc2 = relat_male['sinc_o']\n",
    "intel2 = relat_male['intel_o']\n",
    "fun2 = relat_male['fun_o']\n",
    "amb2 = relat_male['amb_o']\n",
    "shar2 = relat_male['shar_o']"
   ]
  },
  {
   "cell_type": "code",
   "execution_count": 88,
   "metadata": {},
   "outputs": [],
   "source": [
    "x1_sinc1 = DataFrame(relat_female, columns = ['dec_o', 'sinc_o'])\n",
    "x1_intel1 = DataFrame(relat_female, columns = ['dec_o', 'intel_o'])\n",
    "x1_fun1 = DataFrame(relat_female, columns = ['dec_o', 'fun_o'])\n",
    "x1_amb1 = DataFrame(relat_female, columns = ['dec_o', 'amb_o'])\n",
    "x1_shar1 = DataFrame(relat_female, columns = ['dec_o', 'shar_o'])\n",
    "\n",
    "x2_sinc2 = DataFrame(relat_male, columns = ['dec_o', 'sinc_o'])\n",
    "x2_intel2 = DataFrame(relat_male, columns = ['dec_o', 'intel_o'])\n",
    "x2_fun2 = DataFrame(relat_male, columns = ['dec_o', 'fun_o'])\n",
    "x2_amb2 = DataFrame(relat_male, columns = ['dec_o', 'amb_o'])\n",
    "x2_shar2 = DataFrame(relat_male, columns = ['dec_o', 'shar_o'])\n",
    "\n"
   ]
  },
  {
   "cell_type": "code",
   "execution_count": 89,
   "metadata": {},
   "outputs": [],
   "source": [
    "attr1 = x1_attr1.corr().iloc[0,1]\n",
    "sinc1 = x1_sinc1.corr().iloc[0,1]\n",
    "intel1 = x1_intel1.corr().iloc[0,1]\n",
    "fun1 = x1_fun1.corr().iloc[0,1]\n",
    "amb1 = x1_amb1.corr().iloc[0,1]\n",
    "shar1 = x1_shar1.corr().iloc[0,1]\n",
    "\n",
    "attr2 = x2_attr2.corr().iloc[0,1]\n",
    "sinc2 = x2_sinc2.corr().iloc[0,1]\n",
    "intel2 = x2_intel2.corr().iloc[0,1]\n",
    "fun2 = x2_fun2.corr().iloc[0,1]\n",
    "amb2 = x2_amb2.corr().iloc[0,1]\n",
    "shar2 = x2_shar2.corr().iloc[0,1]"
   ]
  },
  {
   "cell_type": "code",
   "execution_count": 90,
   "metadata": {},
   "outputs": [
    {
     "name": "stdout",
     "output_type": "stream",
     "text": [
      "female corration Coefficient: attr, sinc, intel, fun, amb, shar =  0.7955347894903463 0.1978764230330323 0.33990762060740315 0.630038836838428 0.46168571306919615 0.5589939627328543\n"
     ]
    }
   ],
   "source": [
    "print(\"female corration Coefficient: attr, sinc, intel, fun, amb, shar = \",attr1, sinc1, intel1, fun1, amb1, shar1)"
   ]
  },
  {
   "cell_type": "code",
   "execution_count": 91,
   "metadata": {},
   "outputs": [
    {
     "name": "stdout",
     "output_type": "stream",
     "text": [
      "male corration Coefficient: attr, sinc, intel, fun, amb, shar =  0.7730685986112985 0.270236532576452 0.28979350997105696 0.6845124871363181 0.2728481385574665 0.6706851078197141\n"
     ]
    }
   ],
   "source": [
    "print(\"male corration Coefficient: attr, sinc, intel, fun, amb, shar = \",attr2, sinc2, intel2, fun2, amb2, shar2)"
   ]
  },
  {
   "cell_type": "code",
   "execution_count": 92,
   "metadata": {},
   "outputs": [],
   "source": [
    "import numpy as np"
   ]
  },
  {
   "cell_type": "code",
   "execution_count": 93,
   "metadata": {},
   "outputs": [
    {
     "name": "stdout",
     "output_type": "stream",
     "text": [
      "[26.6596794   6.63116443 11.39086349 21.11363779 15.47184769 18.7328072 ]\n"
     ]
    }
   ],
   "source": [
    "female = np.array([attr1, sinc1, intel1, fun1, amb1, shar1])\n",
    "f_sum = female.sum()\n",
    "female_normalize = female*100/f_sum\n",
    "print(female_normalize)\n"
   ]
  },
  {
   "cell_type": "code",
   "execution_count": 94,
   "metadata": {},
   "outputs": [
    {
     "name": "stdout",
     "output_type": "stream",
     "text": [
      "[26.10708904  9.12608432  9.78653768 23.11648473  9.21428016 22.64952407]\n"
     ]
    }
   ],
   "source": [
    "male = np.array([attr2, sinc2, intel2, fun2, amb2, shar2])\n",
    "m_sum = male.sum()\n",
    "male_normalize = male*100/m_sum\n",
    "print(male_normalize)\n"
   ]
  },
  {
   "cell_type": "code",
   "execution_count": null,
   "metadata": {},
   "outputs": [],
   "source": []
  }
 ],
 "metadata": {
  "kernelspec": {
   "display_name": "Python 3",
   "language": "python",
   "name": "python3"
  },
  "language_info": {
   "codemirror_mode": {
    "name": "ipython",
    "version": 3
   },
   "file_extension": ".py",
   "mimetype": "text/x-python",
   "name": "python",
   "nbconvert_exporter": "python",
   "pygments_lexer": "ipython3",
   "version": "3.7.0"
  }
 },
 "nbformat": 4,
 "nbformat_minor": 2
}
