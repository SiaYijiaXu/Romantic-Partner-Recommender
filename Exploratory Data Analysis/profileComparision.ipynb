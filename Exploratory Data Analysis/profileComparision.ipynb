{
 "cells": [
  {
   "cell_type": "code",
   "execution_count": 1,
   "metadata": {},
   "outputs": [],
   "source": [
    "import numpy as np\n",
    "import pandas as pd\n",
    "from pandas import Series,DataFrame\n",
    "import matplotlib.pyplot as plt\n",
    "import seaborn as sns\n",
    "%matplotlib inline\n"
   ]
  },
  {
   "cell_type": "code",
   "execution_count": 2,
   "metadata": {},
   "outputs": [],
   "source": [
    "data = pd.read_csv('Speed_Dating_Data.csv')"
   ]
  },
  {
   "cell_type": "code",
   "execution_count": 3,
   "metadata": {},
   "outputs": [
    {
     "data": {
      "text/plain": [
       "(8378, 195)"
      ]
     },
     "execution_count": 3,
     "metadata": {},
     "output_type": "execute_result"
    }
   ],
   "source": [
    "data.shape"
   ]
  },
  {
   "cell_type": "code",
   "execution_count": 4,
   "metadata": {},
   "outputs": [
    {
     "data": {
      "text/html": [
       "<div>\n",
       "<style scoped>\n",
       "    .dataframe tbody tr th:only-of-type {\n",
       "        vertical-align: middle;\n",
       "    }\n",
       "\n",
       "    .dataframe tbody tr th {\n",
       "        vertical-align: top;\n",
       "    }\n",
       "\n",
       "    .dataframe thead th {\n",
       "        text-align: right;\n",
       "    }\n",
       "</style>\n",
       "<table border=\"1\" class=\"dataframe\">\n",
       "  <thead>\n",
       "    <tr style=\"text-align: right;\">\n",
       "      <th></th>\n",
       "      <th>iid</th>\n",
       "      <th>id</th>\n",
       "      <th>gender</th>\n",
       "      <th>idg</th>\n",
       "      <th>condtn</th>\n",
       "      <th>wave</th>\n",
       "      <th>round</th>\n",
       "      <th>position</th>\n",
       "      <th>positin1</th>\n",
       "      <th>order</th>\n",
       "      <th>...</th>\n",
       "      <th>attr3_3</th>\n",
       "      <th>sinc3_3</th>\n",
       "      <th>intel3_3</th>\n",
       "      <th>fun3_3</th>\n",
       "      <th>amb3_3</th>\n",
       "      <th>attr5_3</th>\n",
       "      <th>sinc5_3</th>\n",
       "      <th>intel5_3</th>\n",
       "      <th>fun5_3</th>\n",
       "      <th>amb5_3</th>\n",
       "    </tr>\n",
       "  </thead>\n",
       "  <tbody>\n",
       "  </tbody>\n",
       "</table>\n",
       "<p>0 rows × 195 columns</p>\n",
       "</div>"
      ],
      "text/plain": [
       "Empty DataFrame\n",
       "Columns: [iid, id, gender, idg, condtn, wave, round, position, positin1, order, partner, pid, match, int_corr, samerace, age_o, race_o, pf_o_att, pf_o_sin, pf_o_int, pf_o_fun, pf_o_amb, pf_o_sha, dec_o, attr_o, sinc_o, intel_o, fun_o, amb_o, shar_o, like_o, prob_o, met_o, age, field, field_cd, undergra, mn_sat, tuition, race, imprace, imprelig, from, zipcode, income, goal, date, go_out, career, career_c, sports, tvsports, exercise, dining, museums, art, hiking, gaming, clubbing, reading, tv, theater, movies, concerts, music, shopping, yoga, exphappy, expnum, attr1_1, sinc1_1, intel1_1, fun1_1, amb1_1, shar1_1, attr4_1, sinc4_1, intel4_1, fun4_1, amb4_1, shar4_1, attr2_1, sinc2_1, intel2_1, fun2_1, amb2_1, shar2_1, attr3_1, sinc3_1, fun3_1, intel3_1, amb3_1, attr5_1, sinc5_1, intel5_1, fun5_1, amb5_1, dec, attr, sinc, ...]\n",
       "Index: []\n",
       "\n",
       "[0 rows x 195 columns]"
      ]
     },
     "execution_count": 4,
     "metadata": {},
     "output_type": "execute_result"
    }
   ],
   "source": [
    "data.dropna()"
   ]
  },
  {
   "cell_type": "code",
   "execution_count": 5,
   "metadata": {},
   "outputs": [],
   "source": [
    "df = DataFrame(data, columns = ['iid','pid','gender','match','dec_o',\\\n",
    "                                'attr3_1','sinc3_1','intel3_1','fun3_1','amb3_1',\\\n",
    "                                'attr_o','sinc_o','intel_o','fun_o','amb_o','shar_o',\\\n",
    "                                'attr1_1','sinc1_1','intel1_1','fun1_1','amb1_1','shar1_1'])"
   ]
  },
  {
   "cell_type": "code",
   "execution_count": 6,
   "metadata": {},
   "outputs": [],
   "source": [
    "\n",
    "df['attr_pref_subj_dif'] = df['attr1_1']/(df['attr1_1'] + df['sinc1_1'] + df['intel1_1'] + df['fun1_1'] + df['amb1_1']) - df['attr3_1']/(df['attr3_1'] + df['sinc3_1'] + df['intel3_1'] + df['fun3_1'] + df['amb3_1'])\n",
    "df['sinc_pref_subj_dif'] = df['sinc1_1']/(df['attr1_1'] + df['sinc1_1'] + df['intel1_1'] + df['fun1_1'] + df['amb1_1']) - df['sinc3_1']/(df['attr3_1'] + df['sinc3_1'] + df['intel3_1'] + df['fun3_1'] + df['amb3_1'])\n",
    "df['intel_pref_subj_dif'] = df['intel1_1']/(df['attr1_1'] + df['sinc1_1'] + df['intel1_1'] + df['fun1_1'] + df['amb1_1']) - df['intel3_1']/(df['attr3_1'] + df['sinc3_1'] + df['intel3_1'] + df['fun3_1'] + df['amb3_1'])\n",
    "df['fun_pref_subj_dif'] = df['fun1_1']/(df['attr1_1'] + df['sinc1_1'] + df['intel1_1'] + df['fun1_1'] + df['amb1_1']) - df['fun3_1']/(df['attr3_1'] + df['sinc3_1'] + df['intel3_1'] + df['fun3_1'] + df['amb3_1'])\n",
    "df['amb_pref_subj_dif'] = df['amb1_1']/(df['attr1_1'] + df['sinc1_1'] + df['intel1_1'] + df['fun1_1'] + df['amb1_1']) - df['amb3_1']/(df['attr3_1'] + df['sinc3_1'] + df['intel3_1'] + df['fun3_1'] + df['amb3_1'])"
   ]
  },
  {
   "cell_type": "code",
   "execution_count": 7,
   "metadata": {},
   "outputs": [],
   "source": [
    "df_m = df[df['gender']==1]#male\n",
    "df_f = df[df['gender']==0]#female"
   ]
  },
  {
   "cell_type": "code",
   "execution_count": 8,
   "metadata": {},
   "outputs": [
    {
     "name": "stderr",
     "output_type": "stream",
     "text": [
      "/anaconda3/lib/python3.7/site-packages/ipykernel_launcher.py:1: SettingWithCopyWarning: \n",
      "A value is trying to be set on a copy of a slice from a DataFrame.\n",
      "Try using .loc[row_indexer,col_indexer] = value instead\n",
      "\n",
      "See the caveats in the documentation: http://pandas.pydata.org/pandas-docs/stable/indexing.html#indexing-view-versus-copy\n",
      "  \"\"\"Entry point for launching an IPython kernel.\n",
      "/anaconda3/lib/python3.7/site-packages/ipykernel_launcher.py:2: SettingWithCopyWarning: \n",
      "A value is trying to be set on a copy of a slice from a DataFrame.\n",
      "Try using .loc[row_indexer,col_indexer] = value instead\n",
      "\n",
      "See the caveats in the documentation: http://pandas.pydata.org/pandas-docs/stable/indexing.html#indexing-view-versus-copy\n",
      "  \n",
      "/anaconda3/lib/python3.7/site-packages/ipykernel_launcher.py:3: SettingWithCopyWarning: \n",
      "A value is trying to be set on a copy of a slice from a DataFrame.\n",
      "Try using .loc[row_indexer,col_indexer] = value instead\n",
      "\n",
      "See the caveats in the documentation: http://pandas.pydata.org/pandas-docs/stable/indexing.html#indexing-view-versus-copy\n",
      "  This is separate from the ipykernel package so we can avoid doing imports until\n",
      "/anaconda3/lib/python3.7/site-packages/ipykernel_launcher.py:4: SettingWithCopyWarning: \n",
      "A value is trying to be set on a copy of a slice from a DataFrame.\n",
      "Try using .loc[row_indexer,col_indexer] = value instead\n",
      "\n",
      "See the caveats in the documentation: http://pandas.pydata.org/pandas-docs/stable/indexing.html#indexing-view-versus-copy\n",
      "  after removing the cwd from sys.path.\n",
      "/anaconda3/lib/python3.7/site-packages/ipykernel_launcher.py:5: SettingWithCopyWarning: \n",
      "A value is trying to be set on a copy of a slice from a DataFrame.\n",
      "Try using .loc[row_indexer,col_indexer] = value instead\n",
      "\n",
      "See the caveats in the documentation: http://pandas.pydata.org/pandas-docs/stable/indexing.html#indexing-view-versus-copy\n",
      "  \"\"\"\n",
      "/anaconda3/lib/python3.7/site-packages/ipykernel_launcher.py:7: SettingWithCopyWarning: \n",
      "A value is trying to be set on a copy of a slice from a DataFrame.\n",
      "Try using .loc[row_indexer,col_indexer] = value instead\n",
      "\n",
      "See the caveats in the documentation: http://pandas.pydata.org/pandas-docs/stable/indexing.html#indexing-view-versus-copy\n",
      "  import sys\n",
      "/anaconda3/lib/python3.7/site-packages/ipykernel_launcher.py:8: SettingWithCopyWarning: \n",
      "A value is trying to be set on a copy of a slice from a DataFrame.\n",
      "Try using .loc[row_indexer,col_indexer] = value instead\n",
      "\n",
      "See the caveats in the documentation: http://pandas.pydata.org/pandas-docs/stable/indexing.html#indexing-view-versus-copy\n",
      "  \n",
      "/anaconda3/lib/python3.7/site-packages/ipykernel_launcher.py:9: SettingWithCopyWarning: \n",
      "A value is trying to be set on a copy of a slice from a DataFrame.\n",
      "Try using .loc[row_indexer,col_indexer] = value instead\n",
      "\n",
      "See the caveats in the documentation: http://pandas.pydata.org/pandas-docs/stable/indexing.html#indexing-view-versus-copy\n",
      "  if __name__ == '__main__':\n",
      "/anaconda3/lib/python3.7/site-packages/ipykernel_launcher.py:10: SettingWithCopyWarning: \n",
      "A value is trying to be set on a copy of a slice from a DataFrame.\n",
      "Try using .loc[row_indexer,col_indexer] = value instead\n",
      "\n",
      "See the caveats in the documentation: http://pandas.pydata.org/pandas-docs/stable/indexing.html#indexing-view-versus-copy\n",
      "  # Remove the CWD from sys.path while we load stuff.\n",
      "/anaconda3/lib/python3.7/site-packages/ipykernel_launcher.py:11: SettingWithCopyWarning: \n",
      "A value is trying to be set on a copy of a slice from a DataFrame.\n",
      "Try using .loc[row_indexer,col_indexer] = value instead\n",
      "\n",
      "See the caveats in the documentation: http://pandas.pydata.org/pandas-docs/stable/indexing.html#indexing-view-versus-copy\n",
      "  # This is added back by InteractiveShellApp.init_path()\n"
     ]
    }
   ],
   "source": [
    "df_m['attr_pref_subj_dif'] = df_m['attr1_1']/(df_m['attr1_1'] + df_m['sinc1_1'] + df_m['intel1_1'] + df_m['fun1_1'] + df_m['amb1_1']) - df_m['attr3_1']/(df_m['attr3_1'] + df_m['sinc3_1'] + df_m['intel3_1'] + df_m['fun3_1'] + df_m['amb3_1'])\n",
    "df_m['sinc_pref_subj_dif'] = df_m['sinc1_1']/(df_m['attr1_1'] + df_m['sinc1_1'] + df_m['intel1_1'] + df_m['fun1_1'] + df_m['amb1_1']) - df_m['sinc3_1']/(df_m['attr3_1'] + df_m['sinc3_1'] + df_m['intel3_1'] + df_m['fun3_1'] + df_m['amb3_1'])\n",
    "df_m['intel_pref_subj_dif'] = df_m['intel1_1']/(df_m['attr1_1'] + df_m['sinc1_1'] + df_m['intel1_1'] + df_m['fun1_1'] + df_m['amb1_1']) - df_m['intel3_1']/(df_m['attr3_1'] + df_m['sinc3_1'] + df_m['intel3_1'] + df_m['fun3_1'] + df_m['amb3_1'])\n",
    "df_m['fun_pref_subj_dif'] = df_m['fun1_1']/(df_m['attr1_1'] + df_m['sinc1_1'] + df_m['intel1_1'] + df_m['fun1_1'] + df_m['amb1_1']) - df_m['fun3_1']/(df_m['attr3_1'] + df_m['sinc3_1'] + df_m['intel3_1'] + df_m['fun3_1'] + df_m['amb3_1'])\n",
    "df_m['amb_pref_subj_dif'] = df_m['amb1_1']/(df_m['attr1_1'] + df_m['sinc1_1'] + df_m['intel1_1'] + df_m['fun1_1'] + df_m['amb1_1']) - df_m['amb3_1']/(df_m['attr3_1'] + df_m['sinc3_1'] + df_m['intel3_1'] + df_m['fun3_1'] + df_m['amb3_1'])\n",
    "\n",
    "df_f['attr_pref_subj_dif'] = df_f['attr1_1']/(df_f['attr1_1'] + df_f['sinc1_1'] + df_f['intel1_1'] + df_f['fun1_1'] + df_f['amb1_1']) - df_f['attr3_1']/(df_f['attr3_1'] + df_f['sinc3_1'] + df_f['intel3_1'] + df_f['fun3_1'] + df_f['amb3_1'])\n",
    "df_f['sinc_pref_subj_dif'] = df_f['sinc1_1']/(df_f['attr1_1'] + df_f['sinc1_1'] + df_f['intel1_1'] + df_f['fun1_1'] + df_f['amb1_1']) - df_f['sinc3_1']/(df_f['attr3_1'] + df_f['sinc3_1'] + df_f['intel3_1'] + df_f['fun3_1'] + df_f['amb3_1'])\n",
    "df_f['intel_pref_subj_dif'] = df_f['intel1_1']/(df_f['attr1_1'] + df_f['sinc1_1'] + df_f['intel1_1'] + df_f['fun1_1'] + df_f['amb1_1']) - df_f['intel3_1']/(df_f['attr3_1'] + df_f['sinc3_1'] + df_f['intel3_1'] + df_f['fun3_1'] + df_f['amb3_1'])\n",
    "df_f['fun_pref_subj_dif'] = df_f['fun1_1']/(df_f['attr1_1'] + df_f['sinc1_1'] + df_f['intel1_1'] + df_f['fun1_1'] + df_f['amb1_1']) - df_f['fun3_1']/(df_f['attr3_1'] + df_f['sinc3_1'] + df_f['intel3_1'] + df_f['fun3_1'] + df_f['amb3_1'])\n",
    "df_f['amb_pref_subj_dif'] = df_f['amb1_1']/(df_f['attr1_1'] + df_f['sinc1_1'] + df_f['intel1_1'] + df_f['fun1_1'] + df_f['amb1_1']) - df_f['amb3_1']/(df_f['attr3_1'] + df_f['sinc3_1'] + df_f['intel3_1'] + df_f['fun3_1'] + df_f['amb3_1'])"
   ]
  },
  {
   "cell_type": "code",
   "execution_count": 9,
   "metadata": {
    "scrolled": true
   },
   "outputs": [
    {
     "data": {
      "image/png": "[encoded data removed]",
      "text/plain": [
       "<Figure size 1080x1440 with 6 Axes>"
      ]
     },
     "metadata": {
      "needs_background": "light"
     },
     "output_type": "display_data"
    }
   ],
   "source": [
    "f, axs = plt.subplots(3,2,figsize=(15,20))\n",
    "axs[0][0].hist(df_m['attr_pref_subj_dif'].dropna(), bins = 7, rwidth = 0.9, color = 'xkcd:lightblue')\n",
    "axs[0][0].set_title('Attraction Difference (Male)')\n",
    "axs[0][0].set_ylim([0,3020])\n",
    "axs[0][0].set_xlim([-0.8,0.8])\n",
    "axs[0][0].set_xlabel('Difference')\n",
    "axs[0][0].set_ylabel('Number of particiants')\n",
    "axs[0][1].hist(df_f['attr_pref_subj_dif'].dropna(), bins = 7, rwidth = 0.9, color = 'xkcd:pink')\n",
    "axs[0][1].set_title('Attraction Difference (Female)')\n",
    "axs[0][1].set_ylim([0,3020])\n",
    "axs[0][1].set_xlim([-0.8,0.8])\n",
    "axs[0][1].set_xlabel('Difference')\n",
    "axs[0][1].set_ylabel('Number of particiants')\n",
    "\n",
    "axs[1][0].hist(df_m['intel_pref_subj_dif'].dropna(), bins = 5, rwidth = 0.9, color = 'xkcd:lightblue')\n",
    "axs[1][0].set_title('Intelligence Diffrence (Male)')\n",
    "axs[1][0].set_ylim([0,3000])\n",
    "axs[1][0].set_xlim([-0.4,0.4])\n",
    "axs[1][0].set_xlabel('Difference')\n",
    "axs[1][0].set_ylabel('Number of particiants')\n",
    "axs[1][1].hist(df_f['intel_pref_subj_dif'].dropna(), bins = 5, rwidth = 0.9, color = 'xkcd:pink')\n",
    "axs[1][1].set_title('Intelligence Diffrence (Female)')\n",
    "axs[1][1].set_ylim([0,3000])\n",
    "axs[1][1].set_xlim([-0.4,0.4])\n",
    "axs[1][1].set_xlabel('Difference')\n",
    "axs[1][1].set_ylabel('Number of particiants')\n",
    "\n",
    "axs[2][0].hist(df_m['amb_pref_subj_dif'].dropna(), bins = 5, rwidth = 0.9, color = 'xkcd:lightblue')\n",
    "axs[2][0].set_title('Ambitiousness Difference (Male)')\n",
    "axs[2][0].set_ylim([0,3000])\n",
    "axs[2][0].set_xlim([-0.3,0.3])\n",
    "axs[2][0].set_xlabel('Difference')\n",
    "axs[2][0].set_ylabel('Number of particiants')\n",
    "axs[2][1].hist(df_f['amb_pref_subj_dif'].dropna(), bins = 5, rwidth = 0.9, color = 'xkcd:pink')\n",
    "axs[2][1].set_title('Ambitiousness Difference (Female)')\n",
    "axs[2][1].set_ylim([0,3000])\n",
    "axs[2][1].set_xlim([-0.3,0.3])\n",
    "axs[2][1].set_xlabel('Difference')\n",
    "axs[2][1].set_ylabel('Number of particiants')\n",
    "f.savefig('genderCompOnTraits.png')"
   ]
  },
  {
   "cell_type": "code",
   "execution_count": 10,
   "metadata": {},
   "outputs": [
    {
     "data": {
      "text/plain": [
       "0.8924654268001907"
      ]
     },
     "execution_count": 10,
     "metadata": {},
     "output_type": "execute_result"
    }
   ],
   "source": [
    "(df_m['attr_pref_subj_dif'][df_m['attr_pref_subj_dif']>0].size)/(df_m['attr_pref_subj_dif'].size)"
   ]
  },
  {
   "cell_type": "code",
   "execution_count": 11,
   "metadata": {},
   "outputs": [
    {
     "data": {
      "text/plain": [
       "0.5456500956022945"
      ]
     },
     "execution_count": 11,
     "metadata": {},
     "output_type": "execute_result"
    }
   ],
   "source": [
    "(df_f['attr_pref_subj_dif'][df_f['attr_pref_subj_dif']>0].size)/(df_f['attr_pref_subj_dif'].size)"
   ]
  },
  {
   "cell_type": "code",
   "execution_count": 12,
   "metadata": {},
   "outputs": [
    {
     "data": {
      "text/plain": [
       "0.5736766809728183"
      ]
     },
     "execution_count": 12,
     "metadata": {},
     "output_type": "execute_result"
    }
   ],
   "source": [
    "(df_m['fun_pref_subj_dif'][df_m['fun_pref_subj_dif']>0].size)/(df_m['fun_pref_subj_dif'].size)"
   ]
  },
  {
   "cell_type": "code",
   "execution_count": 13,
   "metadata": {},
   "outputs": [
    {
     "data": {
      "text/plain": [
       "0.5117112810707457"
      ]
     },
     "execution_count": 13,
     "metadata": {},
     "output_type": "execute_result"
    }
   ],
   "source": [
    "(df_f['fun_pref_subj_dif'][df_f['fun_pref_subj_dif']>0].size)/(df_f['fun_pref_subj_dif'].size)"
   ]
  },
  {
   "cell_type": "code",
   "execution_count": 14,
   "metadata": {},
   "outputs": [
    {
     "data": {
      "text/plain": [
       "0.54482594182165"
      ]
     },
     "execution_count": 14,
     "metadata": {},
     "output_type": "execute_result"
    }
   ],
   "source": [
    "(df_m['intel_pref_subj_dif'][df_m['intel_pref_subj_dif']>0].size)/(df_m['intel_pref_subj_dif'].size)"
   ]
  },
  {
   "cell_type": "code",
   "execution_count": 15,
   "metadata": {},
   "outputs": [
    {
     "data": {
      "text/plain": [
       "0.6912045889101338"
      ]
     },
     "execution_count": 15,
     "metadata": {},
     "output_type": "execute_result"
    }
   ],
   "source": [
    "(df_f['intel_pref_subj_dif'][df_f['intel_pref_subj_dif']>0].size)/(df_f['intel_pref_subj_dif'].size)"
   ]
  },
  {
   "cell_type": "code",
   "execution_count": 16,
   "metadata": {},
   "outputs": [
    {
     "data": {
      "text/plain": [
       "0.3385789222699094"
      ]
     },
     "execution_count": 16,
     "metadata": {},
     "output_type": "execute_result"
    }
   ],
   "source": [
    "(df_m['sinc_pref_subj_dif'][df_m['sinc_pref_subj_dif']>0].size)/(df_m['sinc_pref_subj_dif'].size)"
   ]
  },
  {
   "cell_type": "code",
   "execution_count": 17,
   "metadata": {},
   "outputs": [
    {
     "data": {
      "text/plain": [
       "0.4713193116634799"
      ]
     },
     "execution_count": 17,
     "metadata": {},
     "output_type": "execute_result"
    }
   ],
   "source": [
    "(df_f['sinc_pref_subj_dif'][df_f['sinc_pref_subj_dif']>0].size)/(df_f['sinc_pref_subj_dif'].size)"
   ]
  },
  {
   "cell_type": "code",
   "execution_count": 18,
   "metadata": {},
   "outputs": [
    {
     "data": {
      "text/plain": [
       "0.0569861707200763"
      ]
     },
     "execution_count": 18,
     "metadata": {},
     "output_type": "execute_result"
    }
   ],
   "source": [
    "(df_m['amb_pref_subj_dif'][df_m['amb_pref_subj_dif']>0].size)/(df_m['amb_pref_subj_dif'].size)"
   ]
  },
  {
   "cell_type": "code",
   "execution_count": 19,
   "metadata": {},
   "outputs": [
    {
     "data": {
      "text/plain": [
       "0.22299235181644358"
      ]
     },
     "execution_count": 19,
     "metadata": {},
     "output_type": "execute_result"
    }
   ],
   "source": [
    "(df_f['amb_pref_subj_dif'][df_f['amb_pref_subj_dif']>0].size)/(df_f['amb_pref_subj_dif'].size)"
   ]
  },
  {
   "cell_type": "code",
   "execution_count": null,
   "metadata": {},
   "outputs": [],
   "source": []
  }
 ],
 "metadata": {
  "kernelspec": {
   "display_name": "Python 3",
   "language": "python",
   "name": "python3"
  },
  "language_info": {
   "codemirror_mode": {
    "name": "ipython",
    "version": 3
   },
   "file_extension": ".py",
   "mimetype": "text/x-python",
   "name": "python",
   "nbconvert_exporter": "python",
   "pygments_lexer": "ipython3",
   "version": "3.7.0"
  }
 },
 "nbformat": 4,
 "nbformat_minor": 2
}
